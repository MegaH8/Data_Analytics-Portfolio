{
 "cells": [
  {
   "cell_type": "markdown",
   "metadata": {},
   "source": [
    "# **Исследование данных о звонках операторов продающих услуги компании**"
   ]
  },
  {
   "cell_type": "code",
   "execution_count": 26,
   "metadata": {},
   "outputs": [],
   "source": [
    "from scipy import stats as st\n",
    "\n",
    "import numpy as np\n",
    "import pandas as pd\n",
    "\n",
    "import matplotlib.pyplot as plt\n",
    "import seaborn as sns\n",
    "\n",
    "import datetime as dt\n",
    "\n",
    "import plotly.express as px\n",
    "from plotly import graph_objects as go\n",
    "\n",
    "import re \n",
    "import math as mth"
   ]
  },
  {
   "cell_type": "markdown",
   "metadata": {},
   "source": [
    "## Обзор данных\n",
    "\n",
    "Посмотрим что находится в данных."
   ]
  },
  {
   "cell_type": "code",
   "execution_count": 27,
   "metadata": {},
   "outputs": [],
   "source": [
    "df = pd.read_csv(\"dataset.csv\")"
   ]
  },
  {
   "cell_type": "code",
   "execution_count": 28,
   "metadata": {},
   "outputs": [
    {
     "data": {
      "text/html": [
       "<div>\n",
       "<style scoped>\n",
       "    .dataframe tbody tr th:only-of-type {\n",
       "        vertical-align: middle;\n",
       "    }\n",
       "\n",
       "    .dataframe tbody tr th {\n",
       "        vertical-align: top;\n",
       "    }\n",
       "\n",
       "    .dataframe thead th {\n",
       "        text-align: right;\n",
       "    }\n",
       "</style>\n",
       "<table border=\"1\" class=\"dataframe\">\n",
       "  <thead>\n",
       "    <tr style=\"text-align: right;\">\n",
       "      <th></th>\n",
       "      <th>task_rk</th>\n",
       "      <th>duratoin_sec</th>\n",
       "      <th>hit_status_result_desc</th>\n",
       "      <th>hid</th>\n",
       "      <th>using_flg</th>\n",
       "      <th>agent_login</th>\n",
       "    </tr>\n",
       "  </thead>\n",
       "  <tbody>\n",
       "    <tr>\n",
       "      <th>0</th>\n",
       "      <td>196</td>\n",
       "      <td>55,66</td>\n",
       "      <td>Дозвон, Перезвонить</td>\n",
       "      <td>1</td>\n",
       "      <td>NaN</td>\n",
       "      <td>1190lasa</td>\n",
       "    </tr>\n",
       "    <tr>\n",
       "      <th>1</th>\n",
       "      <td>630</td>\n",
       "      <td>0</td>\n",
       "      <td>Недозвон</td>\n",
       "      <td>4</td>\n",
       "      <td>NaN</td>\n",
       "      <td>zovadxta</td>\n",
       "    </tr>\n",
       "    <tr>\n",
       "      <th>2</th>\n",
       "      <td>630</td>\n",
       "      <td>0</td>\n",
       "      <td>Недозвон</td>\n",
       "      <td>4</td>\n",
       "      <td>NaN</td>\n",
       "      <td>lovaraka</td>\n",
       "    </tr>\n",
       "    <tr>\n",
       "      <th>3</th>\n",
       "      <td>852</td>\n",
       "      <td>189</td>\n",
       "      <td>Дозвон, Перезвонить</td>\n",
       "      <td>1</td>\n",
       "      <td>NaN</td>\n",
       "      <td>7876nssh</td>\n",
       "    </tr>\n",
       "    <tr>\n",
       "      <th>4</th>\n",
       "      <td>1635</td>\n",
       "      <td>0</td>\n",
       "      <td>Недозвон</td>\n",
       "      <td>4</td>\n",
       "      <td>NaN</td>\n",
       "      <td>inovgaan</td>\n",
       "    </tr>\n",
       "    <tr>\n",
       "      <th>...</th>\n",
       "      <td>...</td>\n",
       "      <td>...</td>\n",
       "      <td>...</td>\n",
       "      <td>...</td>\n",
       "      <td>...</td>\n",
       "      <td>...</td>\n",
       "    </tr>\n",
       "    <tr>\n",
       "      <th>89169</th>\n",
       "      <td>99997999</td>\n",
       "      <td>0</td>\n",
       "      <td>Недозвон</td>\n",
       "      <td>1</td>\n",
       "      <td>NaN</td>\n",
       "      <td>9363vesh</td>\n",
       "    </tr>\n",
       "    <tr>\n",
       "      <th>89170</th>\n",
       "      <td>99998332</td>\n",
       "      <td>103,88</td>\n",
       "      <td>Дозвон, Перезвонить</td>\n",
       "      <td>4</td>\n",
       "      <td>NaN</td>\n",
       "      <td>ayanyuyu</td>\n",
       "    </tr>\n",
       "    <tr>\n",
       "      <th>89171</th>\n",
       "      <td>99998332</td>\n",
       "      <td>0</td>\n",
       "      <td>Недозвон</td>\n",
       "      <td>4</td>\n",
       "      <td>NaN</td>\n",
       "      <td>vkiniyua</td>\n",
       "    </tr>\n",
       "    <tr>\n",
       "      <th>89172</th>\n",
       "      <td>99999355</td>\n",
       "      <td>32,78</td>\n",
       "      <td>Дозвон, Отказ</td>\n",
       "      <td>4</td>\n",
       "      <td>NaN</td>\n",
       "      <td>oyansgat</td>\n",
       "    </tr>\n",
       "    <tr>\n",
       "      <th>89173</th>\n",
       "      <td>99999478</td>\n",
       "      <td>91,94</td>\n",
       "      <td>Дозвон, Перезвонить</td>\n",
       "      <td>4</td>\n",
       "      <td>NaN</td>\n",
       "      <td>8102dasv</td>\n",
       "    </tr>\n",
       "  </tbody>\n",
       "</table>\n",
       "<p>89174 rows × 6 columns</p>\n",
       "</div>"
      ],
      "text/plain": [
       "        task_rk duratoin_sec hit_status_result_desc  hid  using_flg  \\\n",
       "0           196        55,66    Дозвон, Перезвонить    1        NaN   \n",
       "1           630            0               Недозвон    4        NaN   \n",
       "2           630            0               Недозвон    4        NaN   \n",
       "3           852          189    Дозвон, Перезвонить    1        NaN   \n",
       "4          1635            0               Недозвон    4        NaN   \n",
       "...         ...          ...                    ...  ...        ...   \n",
       "89169  99997999            0               Недозвон    1        NaN   \n",
       "89170  99998332       103,88    Дозвон, Перезвонить    4        NaN   \n",
       "89171  99998332            0               Недозвон    4        NaN   \n",
       "89172  99999355        32,78          Дозвон, Отказ    4        NaN   \n",
       "89173  99999478        91,94    Дозвон, Перезвонить    4        NaN   \n",
       "\n",
       "      agent_login  \n",
       "0        1190lasa  \n",
       "1        zovadxta  \n",
       "2        lovaraka  \n",
       "3        7876nssh  \n",
       "4        inovgaan  \n",
       "...           ...  \n",
       "89169    9363vesh  \n",
       "89170    ayanyuyu  \n",
       "89171    vkiniyua  \n",
       "89172    oyansgat  \n",
       "89173    8102dasv  \n",
       "\n",
       "[89174 rows x 6 columns]"
      ]
     },
     "execution_count": 28,
     "metadata": {},
     "output_type": "execute_result"
    }
   ],
   "source": [
    "df"
   ]
  },
  {
   "cell_type": "code",
   "execution_count": 29,
   "metadata": {},
   "outputs": [
    {
     "name": "stdout",
     "output_type": "stream",
     "text": [
      "<class 'pandas.core.frame.DataFrame'>\n",
      "RangeIndex: 89174 entries, 0 to 89173\n",
      "Data columns (total 6 columns):\n",
      " #   Column                  Non-Null Count  Dtype  \n",
      "---  ------                  --------------  -----  \n",
      " 0   task_rk                 89174 non-null  int64  \n",
      " 1   duratoin_sec            89174 non-null  object \n",
      " 2   hit_status_result_desc  89174 non-null  object \n",
      " 3   hid                     89174 non-null  int64  \n",
      " 4   using_flg               2525 non-null   float64\n",
      " 5   agent_login             89174 non-null  object \n",
      "dtypes: float64(1), int64(2), object(3)\n",
      "memory usage: 4.1+ MB\n"
     ]
    }
   ],
   "source": [
    "df.info()"
   ]
  },
  {
   "cell_type": "markdown",
   "metadata": {},
   "source": []
  },
  {
   "cell_type": "code",
   "execution_count": 30,
   "metadata": {},
   "outputs": [
    {
     "data": {
      "text/plain": [
       "Недозвон                                  50461\n",
       "Дозвон, Отказ                             18459\n",
       "Дозвон, Перезвонить                       15108\n",
       "Дозвон, Успешно                            3310\n",
       "Дозвон, Отложить                           1680\n",
       "Не было звонка                              130\n",
       "Дозвон, Некорректное задание по звонку       26\n",
       "Name: hit_status_result_desc, dtype: int64"
      ]
     },
     "execution_count": 30,
     "metadata": {},
     "output_type": "execute_result"
    }
   ],
   "source": [
    "df.hit_status_result_desc.value_counts()"
   ]
  },
  {
   "cell_type": "markdown",
   "metadata": {},
   "source": [
    "---\n",
    "## Подготовка данных\n",
    "\n",
    "Заменим названия столбцов"
   ]
  },
  {
   "cell_type": "code",
   "execution_count": 31,
   "metadata": {},
   "outputs": [
    {
     "data": {
      "text/html": [
       "<div>\n",
       "<style scoped>\n",
       "    .dataframe tbody tr th:only-of-type {\n",
       "        vertical-align: middle;\n",
       "    }\n",
       "\n",
       "    .dataframe tbody tr th {\n",
       "        vertical-align: top;\n",
       "    }\n",
       "\n",
       "    .dataframe thead th {\n",
       "        text-align: right;\n",
       "    }\n",
       "</style>\n",
       "<table border=\"1\" class=\"dataframe\">\n",
       "  <thead>\n",
       "    <tr style=\"text-align: right;\">\n",
       "      <th></th>\n",
       "      <th>task_id</th>\n",
       "      <th>duration_sec</th>\n",
       "      <th>result</th>\n",
       "      <th>product_id</th>\n",
       "      <th>using</th>\n",
       "      <th>agent_login</th>\n",
       "    </tr>\n",
       "  </thead>\n",
       "  <tbody>\n",
       "    <tr>\n",
       "      <th>0</th>\n",
       "      <td>196</td>\n",
       "      <td>55,66</td>\n",
       "      <td>Дозвон, Перезвонить</td>\n",
       "      <td>1</td>\n",
       "      <td>NaN</td>\n",
       "      <td>1190lasa</td>\n",
       "    </tr>\n",
       "    <tr>\n",
       "      <th>1</th>\n",
       "      <td>630</td>\n",
       "      <td>0</td>\n",
       "      <td>Недозвон</td>\n",
       "      <td>4</td>\n",
       "      <td>NaN</td>\n",
       "      <td>zovadxta</td>\n",
       "    </tr>\n",
       "  </tbody>\n",
       "</table>\n",
       "</div>"
      ],
      "text/plain": [
       "   task_id duration_sec               result  product_id  using agent_login\n",
       "0      196        55,66  Дозвон, Перезвонить           1    NaN    1190lasa\n",
       "1      630            0             Недозвон           4    NaN    zovadxta"
      ]
     },
     "execution_count": 31,
     "metadata": {},
     "output_type": "execute_result"
    }
   ],
   "source": [
    "df.columns = [\"task_id\", \"duration_sec\", \"result\", \"product_id\", \"using\", \"agent_login\"]\n",
    "df.head(2)"
   ]
  },
  {
   "cell_type": "markdown",
   "metadata": {},
   "source": [
    "Теперь названия столбцов стали понятнее\n",
    "* `task_id` — идентификатор задания;\n",
    "* `duratoin_sec` — продолжительность звонка;\n",
    "* `result` — результата коммуникации;\n",
    "* `product_id` — идентификатор продукта;\n",
    "* `using` — флаг начала пользования продуктом;\n",
    "* `agent_login` — логин оператора."
   ]
  },
  {
   "cell_type": "markdown",
   "metadata": {},
   "source": [
    "Заменим тип данных в `duration_sec`"
   ]
  },
  {
   "cell_type": "code",
   "execution_count": 32,
   "metadata": {},
   "outputs": [],
   "source": [
    "# Функция заменяет ',' на '.' и переведет во float\n",
    "def replace_comma(dur):\n",
    "    nw = []\n",
    "    for i in dur:\n",
    "        i = float(i.replace(\",\",\".\"))\n",
    "        nw.append(i)\n",
    "    return nw"
   ]
  },
  {
   "cell_type": "code",
   "execution_count": 33,
   "metadata": {},
   "outputs": [],
   "source": [
    "df[\"duration_sec\"] = replace_comma(df[\"duration_sec\"])\n"
   ]
  },
  {
   "cell_type": "markdown",
   "metadata": {},
   "source": [
    "Проверим пропуски"
   ]
  },
  {
   "cell_type": "code",
   "execution_count": 34,
   "metadata": {},
   "outputs": [
    {
     "data": {
      "text/plain": [
       "task_id             0\n",
       "duration_sec        0\n",
       "result              0\n",
       "product_id          0\n",
       "using           86649\n",
       "agent_login         0\n",
       "dtype: int64"
      ]
     },
     "execution_count": 34,
     "metadata": {},
     "output_type": "execute_result"
    }
   ],
   "source": [
    "# подсчёт пропусков\n",
    "df.isna().sum()"
   ]
  },
  {
   "cell_type": "markdown",
   "metadata": {},
   "source": [
    "В нашем случае, пропуски в `using` показывают что в клиент ещё не дошел до продукта, чтобы принять решение по его ипользованию."
   ]
  },
  {
   "cell_type": "markdown",
   "metadata": {},
   "source": [
    "Проверим дупликаты"
   ]
  },
  {
   "cell_type": "code",
   "execution_count": 35,
   "metadata": {},
   "outputs": [
    {
     "name": "stdout",
     "output_type": "stream",
     "text": [
      "Кол-во дубликатов = 402\n"
     ]
    }
   ],
   "source": [
    "print('Кол-во дубликатов =',df.duplicated([\"task_id\", \"duration_sec\", \"result\", \"product_id\", \"using\", \"agent_login\"]).sum())"
   ]
  },
  {
   "cell_type": "markdown",
   "metadata": {},
   "source": [
    "*402 дубликатов, скорей всего эти дубликаты являются попытками оператора дозвонится до клиента и их можно спокойно удалить. Но сначала посмотрим что там:*"
   ]
  },
  {
   "cell_type": "code",
   "execution_count": 36,
   "metadata": {},
   "outputs": [
    {
     "data": {
      "text/html": [
       "<div>\n",
       "<style scoped>\n",
       "    .dataframe tbody tr th:only-of-type {\n",
       "        vertical-align: middle;\n",
       "    }\n",
       "\n",
       "    .dataframe tbody tr th {\n",
       "        vertical-align: top;\n",
       "    }\n",
       "\n",
       "    .dataframe thead th {\n",
       "        text-align: right;\n",
       "    }\n",
       "</style>\n",
       "<table border=\"1\" class=\"dataframe\">\n",
       "  <thead>\n",
       "    <tr style=\"text-align: right;\">\n",
       "      <th></th>\n",
       "      <th>task_id</th>\n",
       "      <th>duration_sec</th>\n",
       "      <th>result</th>\n",
       "      <th>product_id</th>\n",
       "      <th>using</th>\n",
       "      <th>agent_login</th>\n",
       "    </tr>\n",
       "  </thead>\n",
       "  <tbody>\n",
       "    <tr>\n",
       "      <th>231</th>\n",
       "      <td>62937</td>\n",
       "      <td>0.0</td>\n",
       "      <td>Недозвон</td>\n",
       "      <td>1</td>\n",
       "      <td>NaN</td>\n",
       "      <td>8843evod</td>\n",
       "    </tr>\n",
       "    <tr>\n",
       "      <th>593</th>\n",
       "      <td>169912</td>\n",
       "      <td>0.0</td>\n",
       "      <td>Недозвон</td>\n",
       "      <td>4</td>\n",
       "      <td>NaN</td>\n",
       "      <td>eevaanom</td>\n",
       "    </tr>\n",
       "    <tr>\n",
       "      <th>707</th>\n",
       "      <td>205167</td>\n",
       "      <td>0.0</td>\n",
       "      <td>Недозвон</td>\n",
       "      <td>4</td>\n",
       "      <td>NaN</td>\n",
       "      <td>kovantta</td>\n",
       "    </tr>\n",
       "    <tr>\n",
       "      <th>741</th>\n",
       "      <td>214203</td>\n",
       "      <td>0.0</td>\n",
       "      <td>Недозвон</td>\n",
       "      <td>1</td>\n",
       "      <td>NaN</td>\n",
       "      <td>2415aaty</td>\n",
       "    </tr>\n",
       "    <tr>\n",
       "      <th>837</th>\n",
       "      <td>248928</td>\n",
       "      <td>0.0</td>\n",
       "      <td>Недозвон</td>\n",
       "      <td>4</td>\n",
       "      <td>NaN</td>\n",
       "      <td>uluuinnu</td>\n",
       "    </tr>\n",
       "    <tr>\n",
       "      <th>881</th>\n",
       "      <td>265455</td>\n",
       "      <td>0.0</td>\n",
       "      <td>Недозвон</td>\n",
       "      <td>4</td>\n",
       "      <td>NaN</td>\n",
       "      <td>eevaanom</td>\n",
       "    </tr>\n",
       "    <tr>\n",
       "      <th>1824</th>\n",
       "      <td>587280</td>\n",
       "      <td>0.0</td>\n",
       "      <td>Недозвон</td>\n",
       "      <td>4</td>\n",
       "      <td>NaN</td>\n",
       "      <td>ryannaxa</td>\n",
       "    </tr>\n",
       "    <tr>\n",
       "      <th>1831</th>\n",
       "      <td>587651</td>\n",
       "      <td>0.0</td>\n",
       "      <td>Недозвон</td>\n",
       "      <td>4</td>\n",
       "      <td>NaN</td>\n",
       "      <td>6691agsa</td>\n",
       "    </tr>\n",
       "    <tr>\n",
       "      <th>1889</th>\n",
       "      <td>606326</td>\n",
       "      <td>0.0</td>\n",
       "      <td>Недозвон</td>\n",
       "      <td>2</td>\n",
       "      <td>NaN</td>\n",
       "      <td>5596avlo</td>\n",
       "    </tr>\n",
       "    <tr>\n",
       "      <th>1895</th>\n",
       "      <td>607704</td>\n",
       "      <td>0.0</td>\n",
       "      <td>Недозвон</td>\n",
       "      <td>4</td>\n",
       "      <td>NaN</td>\n",
       "      <td>2238aagr</td>\n",
       "    </tr>\n",
       "    <tr>\n",
       "      <th>2141</th>\n",
       "      <td>711305</td>\n",
       "      <td>0.0</td>\n",
       "      <td>Недозвон</td>\n",
       "      <td>4</td>\n",
       "      <td>NaN</td>\n",
       "      <td>deevndgo</td>\n",
       "    </tr>\n",
       "    <tr>\n",
       "      <th>2212</th>\n",
       "      <td>740553</td>\n",
       "      <td>0.0</td>\n",
       "      <td>Недозвон</td>\n",
       "      <td>4</td>\n",
       "      <td>NaN</td>\n",
       "      <td>5395maxa</td>\n",
       "    </tr>\n",
       "    <tr>\n",
       "      <th>2386</th>\n",
       "      <td>793332</td>\n",
       "      <td>0.0</td>\n",
       "      <td>Недозвон</td>\n",
       "      <td>4</td>\n",
       "      <td>NaN</td>\n",
       "      <td>8372aeba</td>\n",
       "    </tr>\n",
       "    <tr>\n",
       "      <th>2634</th>\n",
       "      <td>894694</td>\n",
       "      <td>0.0</td>\n",
       "      <td>Недозвон</td>\n",
       "      <td>1</td>\n",
       "      <td>NaN</td>\n",
       "      <td>3539aako</td>\n",
       "    </tr>\n",
       "    <tr>\n",
       "      <th>2699</th>\n",
       "      <td>923931</td>\n",
       "      <td>0.0</td>\n",
       "      <td>Недозвон</td>\n",
       "      <td>2</td>\n",
       "      <td>NaN</td>\n",
       "      <td>zevabzko</td>\n",
       "    </tr>\n",
       "    <tr>\n",
       "      <th>2884</th>\n",
       "      <td>1008437</td>\n",
       "      <td>0.0</td>\n",
       "      <td>Недозвон</td>\n",
       "      <td>1</td>\n",
       "      <td>NaN</td>\n",
       "      <td>2544gaba</td>\n",
       "    </tr>\n",
       "    <tr>\n",
       "      <th>2989</th>\n",
       "      <td>1059330</td>\n",
       "      <td>0.0</td>\n",
       "      <td>Недозвон</td>\n",
       "      <td>4</td>\n",
       "      <td>NaN</td>\n",
       "      <td>0514adan</td>\n",
       "    </tr>\n",
       "    <tr>\n",
       "      <th>2997</th>\n",
       "      <td>1060096</td>\n",
       "      <td>0.0</td>\n",
       "      <td>Недозвон</td>\n",
       "      <td>4</td>\n",
       "      <td>NaN</td>\n",
       "      <td>nyanzmsi</td>\n",
       "    </tr>\n",
       "    <tr>\n",
       "      <th>3127</th>\n",
       "      <td>1128901</td>\n",
       "      <td>0.0</td>\n",
       "      <td>Недозвон</td>\n",
       "      <td>1</td>\n",
       "      <td>NaN</td>\n",
       "      <td>enkokese</td>\n",
       "    </tr>\n",
       "    <tr>\n",
       "      <th>3128</th>\n",
       "      <td>1128901</td>\n",
       "      <td>0.0</td>\n",
       "      <td>Недозвон</td>\n",
       "      <td>1</td>\n",
       "      <td>NaN</td>\n",
       "      <td>enkokese</td>\n",
       "    </tr>\n",
       "    <tr>\n",
       "      <th>3628</th>\n",
       "      <td>1363413</td>\n",
       "      <td>0.0</td>\n",
       "      <td>Недозвон</td>\n",
       "      <td>4</td>\n",
       "      <td>NaN</td>\n",
       "      <td>6865asko</td>\n",
       "    </tr>\n",
       "    <tr>\n",
       "      <th>3715</th>\n",
       "      <td>1404299</td>\n",
       "      <td>0.0</td>\n",
       "      <td>Недозвон</td>\n",
       "      <td>3</td>\n",
       "      <td>NaN</td>\n",
       "      <td>0157avko</td>\n",
       "    </tr>\n",
       "    <tr>\n",
       "      <th>4077</th>\n",
       "      <td>1525139</td>\n",
       "      <td>0.0</td>\n",
       "      <td>Недозвон</td>\n",
       "      <td>4</td>\n",
       "      <td>NaN</td>\n",
       "      <td>4925ovdu</td>\n",
       "    </tr>\n",
       "    <tr>\n",
       "      <th>4076</th>\n",
       "      <td>1525139</td>\n",
       "      <td>0.0</td>\n",
       "      <td>Недозвон</td>\n",
       "      <td>4</td>\n",
       "      <td>NaN</td>\n",
       "      <td>6782mvma</td>\n",
       "    </tr>\n",
       "    <tr>\n",
       "      <th>4346</th>\n",
       "      <td>1611208</td>\n",
       "      <td>0.0</td>\n",
       "      <td>Недозвон</td>\n",
       "      <td>4</td>\n",
       "      <td>NaN</td>\n",
       "      <td>aevaabba</td>\n",
       "    </tr>\n",
       "    <tr>\n",
       "      <th>4719</th>\n",
       "      <td>1727821</td>\n",
       "      <td>0.0</td>\n",
       "      <td>Недозвон</td>\n",
       "      <td>4</td>\n",
       "      <td>NaN</td>\n",
       "      <td>9180dagr</td>\n",
       "    </tr>\n",
       "    <tr>\n",
       "      <th>4726</th>\n",
       "      <td>1730418</td>\n",
       "      <td>0.0</td>\n",
       "      <td>Недозвон</td>\n",
       "      <td>4</td>\n",
       "      <td>NaN</td>\n",
       "      <td>syantpne</td>\n",
       "    </tr>\n",
       "    <tr>\n",
       "      <th>4754</th>\n",
       "      <td>1739988</td>\n",
       "      <td>0.0</td>\n",
       "      <td>Недозвон</td>\n",
       "      <td>4</td>\n",
       "      <td>NaN</td>\n",
       "      <td>kovatmiv</td>\n",
       "    </tr>\n",
       "    <tr>\n",
       "      <th>4851</th>\n",
       "      <td>1774107</td>\n",
       "      <td>0.0</td>\n",
       "      <td>Недозвон</td>\n",
       "      <td>4</td>\n",
       "      <td>NaN</td>\n",
       "      <td>revaknpo</td>\n",
       "    </tr>\n",
       "    <tr>\n",
       "      <th>4953</th>\n",
       "      <td>1799533</td>\n",
       "      <td>0.0</td>\n",
       "      <td>Недозвон</td>\n",
       "      <td>4</td>\n",
       "      <td>NaN</td>\n",
       "      <td>kovaanse</td>\n",
       "    </tr>\n",
       "  </tbody>\n",
       "</table>\n",
       "</div>"
      ],
      "text/plain": [
       "      task_id  duration_sec    result  product_id  using agent_login\n",
       "231     62937           0.0  Недозвон           1    NaN    8843evod\n",
       "593    169912           0.0  Недозвон           4    NaN    eevaanom\n",
       "707    205167           0.0  Недозвон           4    NaN    kovantta\n",
       "741    214203           0.0  Недозвон           1    NaN    2415aaty\n",
       "837    248928           0.0  Недозвон           4    NaN    uluuinnu\n",
       "881    265455           0.0  Недозвон           4    NaN    eevaanom\n",
       "1824   587280           0.0  Недозвон           4    NaN    ryannaxa\n",
       "1831   587651           0.0  Недозвон           4    NaN    6691agsa\n",
       "1889   606326           0.0  Недозвон           2    NaN    5596avlo\n",
       "1895   607704           0.0  Недозвон           4    NaN    2238aagr\n",
       "2141   711305           0.0  Недозвон           4    NaN    deevndgo\n",
       "2212   740553           0.0  Недозвон           4    NaN    5395maxa\n",
       "2386   793332           0.0  Недозвон           4    NaN    8372aeba\n",
       "2634   894694           0.0  Недозвон           1    NaN    3539aako\n",
       "2699   923931           0.0  Недозвон           2    NaN    zevabzko\n",
       "2884  1008437           0.0  Недозвон           1    NaN    2544gaba\n",
       "2989  1059330           0.0  Недозвон           4    NaN    0514adan\n",
       "2997  1060096           0.0  Недозвон           4    NaN    nyanzmsi\n",
       "3127  1128901           0.0  Недозвон           1    NaN    enkokese\n",
       "3128  1128901           0.0  Недозвон           1    NaN    enkokese\n",
       "3628  1363413           0.0  Недозвон           4    NaN    6865asko\n",
       "3715  1404299           0.0  Недозвон           3    NaN    0157avko\n",
       "4077  1525139           0.0  Недозвон           4    NaN    4925ovdu\n",
       "4076  1525139           0.0  Недозвон           4    NaN    6782mvma\n",
       "4346  1611208           0.0  Недозвон           4    NaN    aevaabba\n",
       "4719  1727821           0.0  Недозвон           4    NaN    9180dagr\n",
       "4726  1730418           0.0  Недозвон           4    NaN    syantpne\n",
       "4754  1739988           0.0  Недозвон           4    NaN    kovatmiv\n",
       "4851  1774107           0.0  Недозвон           4    NaN    revaknpo\n",
       "4953  1799533           0.0  Недозвон           4    NaN    kovaanse"
      ]
     },
     "execution_count": 36,
     "metadata": {},
     "output_type": "execute_result"
    }
   ],
   "source": [
    "df[df.duplicated()==True].sort_values(by=[\"task_id\", \"duration_sec\", \"result\", \"product_id\", \"using\", \"agent_login\"]).head(30)"
   ]
  },
  {
   "cell_type": "code",
   "execution_count": 37,
   "metadata": {},
   "outputs": [
    {
     "data": {
      "text/html": [
       "<div>\n",
       "<style scoped>\n",
       "    .dataframe tbody tr th:only-of-type {\n",
       "        vertical-align: middle;\n",
       "    }\n",
       "\n",
       "    .dataframe tbody tr th {\n",
       "        vertical-align: top;\n",
       "    }\n",
       "\n",
       "    .dataframe thead th {\n",
       "        text-align: right;\n",
       "    }\n",
       "</style>\n",
       "<table border=\"1\" class=\"dataframe\">\n",
       "  <thead>\n",
       "    <tr style=\"text-align: right;\">\n",
       "      <th></th>\n",
       "      <th>task_id</th>\n",
       "      <th>duration_sec</th>\n",
       "      <th>result</th>\n",
       "      <th>product_id</th>\n",
       "      <th>using</th>\n",
       "      <th>agent_login</th>\n",
       "    </tr>\n",
       "  </thead>\n",
       "  <tbody>\n",
       "    <tr>\n",
       "      <th>228</th>\n",
       "      <td>62937</td>\n",
       "      <td>0.0</td>\n",
       "      <td>Недозвон</td>\n",
       "      <td>1</td>\n",
       "      <td>NaN</td>\n",
       "      <td>kovaevsk</td>\n",
       "    </tr>\n",
       "    <tr>\n",
       "      <th>229</th>\n",
       "      <td>62937</td>\n",
       "      <td>0.0</td>\n",
       "      <td>Недозвон</td>\n",
       "      <td>1</td>\n",
       "      <td>NaN</td>\n",
       "      <td>8843evod</td>\n",
       "    </tr>\n",
       "    <tr>\n",
       "      <th>231</th>\n",
       "      <td>62937</td>\n",
       "      <td>0.0</td>\n",
       "      <td>Недозвон</td>\n",
       "      <td>1</td>\n",
       "      <td>NaN</td>\n",
       "      <td>8843evod</td>\n",
       "    </tr>\n",
       "    <tr>\n",
       "      <th>232</th>\n",
       "      <td>62937</td>\n",
       "      <td>0.0</td>\n",
       "      <td>Недозвон</td>\n",
       "      <td>1</td>\n",
       "      <td>NaN</td>\n",
       "      <td>tovaarbo</td>\n",
       "    </tr>\n",
       "  </tbody>\n",
       "</table>\n",
       "</div>"
      ],
      "text/plain": [
       "     task_id  duration_sec    result  product_id  using agent_login\n",
       "228    62937           0.0  Недозвон           1    NaN    kovaevsk\n",
       "229    62937           0.0  Недозвон           1    NaN    8843evod\n",
       "231    62937           0.0  Недозвон           1    NaN    8843evod\n",
       "232    62937           0.0  Недозвон           1    NaN    tovaarbo"
      ]
     },
     "execution_count": 37,
     "metadata": {},
     "output_type": "execute_result"
    }
   ],
   "source": [
    "df[(df[\"task_id\"]==62937) & (df[\"result\"]==\"Недозвон\")]"
   ]
  },
  {
   "cell_type": "markdown",
   "metadata": {},
   "source": [
    "Видно, что одни и те же действия, по тем же заданиям, с тем же результатами повторяются. Удалим их:"
   ]
  },
  {
   "cell_type": "code",
   "execution_count": 38,
   "metadata": {},
   "outputs": [
    {
     "name": "stdout",
     "output_type": "stream",
     "text": [
      "Кол-во оставшихся дубликатов = 0\n"
     ]
    }
   ],
   "source": [
    "df = df.drop_duplicates()\n",
    "print('Кол-во оставшихся дубликатов =', df.duplicated().sum())"
   ]
  },
  {
   "cell_type": "markdown",
   "metadata": {},
   "source": [
    "Проверим:"
   ]
  },
  {
   "cell_type": "code",
   "execution_count": 39,
   "metadata": {},
   "outputs": [
    {
     "name": "stdout",
     "output_type": "stream",
     "text": [
      "Было строчек - 89174 / удалили дубликатов - 402 Осталось строк - 88772\n"
     ]
    }
   ],
   "source": [
    "print('Было строчек - 89174 /', \"удалили дубликатов - 402\", \"Осталось строк -\", (89174-402))"
   ]
  },
  {
   "cell_type": "code",
   "execution_count": 40,
   "metadata": {},
   "outputs": [
    {
     "data": {
      "text/html": [
       "<div>\n",
       "<style scoped>\n",
       "    .dataframe tbody tr th:only-of-type {\n",
       "        vertical-align: middle;\n",
       "    }\n",
       "\n",
       "    .dataframe tbody tr th {\n",
       "        vertical-align: top;\n",
       "    }\n",
       "\n",
       "    .dataframe thead th {\n",
       "        text-align: right;\n",
       "    }\n",
       "</style>\n",
       "<table border=\"1\" class=\"dataframe\">\n",
       "  <thead>\n",
       "    <tr style=\"text-align: right;\">\n",
       "      <th></th>\n",
       "      <th>task_id</th>\n",
       "      <th>duration_sec</th>\n",
       "      <th>result</th>\n",
       "      <th>product_id</th>\n",
       "      <th>using</th>\n",
       "      <th>agent_login</th>\n",
       "    </tr>\n",
       "  </thead>\n",
       "  <tbody>\n",
       "    <tr>\n",
       "      <th>0</th>\n",
       "      <td>196</td>\n",
       "      <td>55.66</td>\n",
       "      <td>Дозвон, Перезвонить</td>\n",
       "      <td>1</td>\n",
       "      <td>NaN</td>\n",
       "      <td>1190lasa</td>\n",
       "    </tr>\n",
       "    <tr>\n",
       "      <th>1</th>\n",
       "      <td>630</td>\n",
       "      <td>0.00</td>\n",
       "      <td>Недозвон</td>\n",
       "      <td>4</td>\n",
       "      <td>NaN</td>\n",
       "      <td>zovadxta</td>\n",
       "    </tr>\n",
       "    <tr>\n",
       "      <th>2</th>\n",
       "      <td>630</td>\n",
       "      <td>0.00</td>\n",
       "      <td>Недозвон</td>\n",
       "      <td>4</td>\n",
       "      <td>NaN</td>\n",
       "      <td>lovaraka</td>\n",
       "    </tr>\n",
       "    <tr>\n",
       "      <th>3</th>\n",
       "      <td>852</td>\n",
       "      <td>189.00</td>\n",
       "      <td>Дозвон, Перезвонить</td>\n",
       "      <td>1</td>\n",
       "      <td>NaN</td>\n",
       "      <td>7876nssh</td>\n",
       "    </tr>\n",
       "    <tr>\n",
       "      <th>4</th>\n",
       "      <td>1635</td>\n",
       "      <td>0.00</td>\n",
       "      <td>Недозвон</td>\n",
       "      <td>4</td>\n",
       "      <td>NaN</td>\n",
       "      <td>inovgaan</td>\n",
       "    </tr>\n",
       "    <tr>\n",
       "      <th>...</th>\n",
       "      <td>...</td>\n",
       "      <td>...</td>\n",
       "      <td>...</td>\n",
       "      <td>...</td>\n",
       "      <td>...</td>\n",
       "      <td>...</td>\n",
       "    </tr>\n",
       "    <tr>\n",
       "      <th>88767</th>\n",
       "      <td>99997999</td>\n",
       "      <td>0.00</td>\n",
       "      <td>Недозвон</td>\n",
       "      <td>1</td>\n",
       "      <td>NaN</td>\n",
       "      <td>9363vesh</td>\n",
       "    </tr>\n",
       "    <tr>\n",
       "      <th>88768</th>\n",
       "      <td>99998332</td>\n",
       "      <td>103.88</td>\n",
       "      <td>Дозвон, Перезвонить</td>\n",
       "      <td>4</td>\n",
       "      <td>NaN</td>\n",
       "      <td>ayanyuyu</td>\n",
       "    </tr>\n",
       "    <tr>\n",
       "      <th>88769</th>\n",
       "      <td>99998332</td>\n",
       "      <td>0.00</td>\n",
       "      <td>Недозвон</td>\n",
       "      <td>4</td>\n",
       "      <td>NaN</td>\n",
       "      <td>vkiniyua</td>\n",
       "    </tr>\n",
       "    <tr>\n",
       "      <th>88770</th>\n",
       "      <td>99999355</td>\n",
       "      <td>32.78</td>\n",
       "      <td>Дозвон, Отказ</td>\n",
       "      <td>4</td>\n",
       "      <td>NaN</td>\n",
       "      <td>oyansgat</td>\n",
       "    </tr>\n",
       "    <tr>\n",
       "      <th>88771</th>\n",
       "      <td>99999478</td>\n",
       "      <td>91.94</td>\n",
       "      <td>Дозвон, Перезвонить</td>\n",
       "      <td>4</td>\n",
       "      <td>NaN</td>\n",
       "      <td>8102dasv</td>\n",
       "    </tr>\n",
       "  </tbody>\n",
       "</table>\n",
       "<p>88772 rows × 6 columns</p>\n",
       "</div>"
      ],
      "text/plain": [
       "        task_id  duration_sec               result  product_id  using  \\\n",
       "0           196         55.66  Дозвон, Перезвонить           1    NaN   \n",
       "1           630          0.00             Недозвон           4    NaN   \n",
       "2           630          0.00             Недозвон           4    NaN   \n",
       "3           852        189.00  Дозвон, Перезвонить           1    NaN   \n",
       "4          1635          0.00             Недозвон           4    NaN   \n",
       "...         ...           ...                  ...         ...    ...   \n",
       "88767  99997999          0.00             Недозвон           1    NaN   \n",
       "88768  99998332        103.88  Дозвон, Перезвонить           4    NaN   \n",
       "88769  99998332          0.00             Недозвон           4    NaN   \n",
       "88770  99999355         32.78        Дозвон, Отказ           4    NaN   \n",
       "88771  99999478         91.94  Дозвон, Перезвонить           4    NaN   \n",
       "\n",
       "      agent_login  \n",
       "0        1190lasa  \n",
       "1        zovadxta  \n",
       "2        lovaraka  \n",
       "3        7876nssh  \n",
       "4        inovgaan  \n",
       "...           ...  \n",
       "88767    9363vesh  \n",
       "88768    ayanyuyu  \n",
       "88769    vkiniyua  \n",
       "88770    oyansgat  \n",
       "88771    8102dasv  \n",
       "\n",
       "[88772 rows x 6 columns]"
      ]
     },
     "execution_count": 40,
     "metadata": {},
     "output_type": "execute_result"
    }
   ],
   "source": [
    "df = df.reset_index(drop=True)\n",
    "df"
   ]
  },
  {
   "cell_type": "markdown",
   "metadata": {},
   "source": [
    "*Всё сходится 88772 строк.*"
   ]
  },
  {
   "cell_type": "markdown",
   "metadata": {},
   "source": [
    "*Вывод. Таблица готова для анализа.*"
   ]
  },
  {
   "cell_type": "code",
   "execution_count": 41,
   "metadata": {},
   "outputs": [
    {
     "name": "stdout",
     "output_type": "stream",
     "text": [
      "Кол-во успешных звонков = 38523\n",
      "Результат Дозвон, Отказ — 18459 кол-во звонков\n",
      "Результат Дозвон, Перезвонить — 15108 кол-во звонков\n",
      "Результат Дозвон, Успешно — 3305 кол-во звонков\n",
      "Результат Дозвон, Отложить — 1680 кол-во звонков\n",
      "Результат Дозвон, Некорректное задание по звонку — 26 кол-во звонков\n",
      "При сложениии получается — 38578 дозвонов\n"
     ]
    }
   ],
   "source": [
    "print('Кол-во успешных звонков =', df[df[\"duration_sec\"]!=0][\"duration_sec\"].count())\n",
    "sum = 0\n",
    "for g in [\"Дозвон, Отказ\", \"Дозвон, Перезвонить\",\"Дозвон, Успешно\",\"Дозвон, Отложить\",\"Дозвон, Некорректное задание по звонку\"]:\n",
    "    users_gr = df[df[\"result\"]==g][\"result\"].count()\n",
    "    sum += users_gr\n",
    "    print(f'Результат {g} — {users_gr} кол-во звонков')\n",
    "print(f'При сложениии получается — {sum} дозвонов')"
   ]
  },
  {
   "cell_type": "markdown",
   "metadata": {},
   "source": [
    "*Звонков с продолжительностью больше 0 меньше суммы всех дозвонов. Получается, что дозвоном считается звонок который клиент  отклонил*"
   ]
  },
  {
   "cell_type": "code",
   "execution_count": 42,
   "metadata": {},
   "outputs": [
    {
     "data": {
      "text/plain": [
       "Недозвон                                  50064\n",
       "Дозвон, Отказ                             18459\n",
       "Дозвон, Перезвонить                       15108\n",
       "Дозвон, Успешно                            3305\n",
       "Дозвон, Отложить                           1680\n",
       "Не было звонка                              130\n",
       "Дозвон, Некорректное задание по звонку       26\n",
       "Name: result, dtype: int64"
      ]
     },
     "execution_count": 42,
     "metadata": {},
     "output_type": "execute_result"
    }
   ],
   "source": [
    "df[\"result\"].value_counts()"
   ]
  },
  {
   "cell_type": "code",
   "execution_count": 43,
   "metadata": {},
   "outputs": [
    {
     "data": {
      "text/html": [
       "<div>\n",
       "<style scoped>\n",
       "    .dataframe tbody tr th:only-of-type {\n",
       "        vertical-align: middle;\n",
       "    }\n",
       "\n",
       "    .dataframe tbody tr th {\n",
       "        vertical-align: top;\n",
       "    }\n",
       "\n",
       "    .dataframe thead th {\n",
       "        text-align: right;\n",
       "    }\n",
       "</style>\n",
       "<table border=\"1\" class=\"dataframe\">\n",
       "  <thead>\n",
       "    <tr style=\"text-align: right;\">\n",
       "      <th></th>\n",
       "      <th>task_id</th>\n",
       "      <th>duration_sec</th>\n",
       "      <th>result</th>\n",
       "      <th>product_id</th>\n",
       "      <th>using</th>\n",
       "      <th>agent_login</th>\n",
       "    </tr>\n",
       "  </thead>\n",
       "  <tbody>\n",
       "    <tr>\n",
       "      <th>4166</th>\n",
       "      <td>1561170</td>\n",
       "      <td>0.0</td>\n",
       "      <td>Дозвон, Успешно</td>\n",
       "      <td>4</td>\n",
       "      <td>0.0</td>\n",
       "      <td>cyanrser</td>\n",
       "    </tr>\n",
       "    <tr>\n",
       "      <th>4778</th>\n",
       "      <td>1755964</td>\n",
       "      <td>0.0</td>\n",
       "      <td>Дозвон, Успешно</td>\n",
       "      <td>4</td>\n",
       "      <td>0.0</td>\n",
       "      <td>cyanrser</td>\n",
       "    </tr>\n",
       "    <tr>\n",
       "      <th>8747</th>\n",
       "      <td>3097008</td>\n",
       "      <td>0.0</td>\n",
       "      <td>Дозвон, Успешно</td>\n",
       "      <td>4</td>\n",
       "      <td>0.0</td>\n",
       "      <td>cyanrser</td>\n",
       "    </tr>\n",
       "    <tr>\n",
       "      <th>8878</th>\n",
       "      <td>3139115</td>\n",
       "      <td>0.0</td>\n",
       "      <td>Дозвон, Успешно</td>\n",
       "      <td>4</td>\n",
       "      <td>0.0</td>\n",
       "      <td>cyanrser</td>\n",
       "    </tr>\n",
       "    <tr>\n",
       "      <th>10804</th>\n",
       "      <td>3920798</td>\n",
       "      <td>0.0</td>\n",
       "      <td>Дозвон, Успешно</td>\n",
       "      <td>4</td>\n",
       "      <td>0.0</td>\n",
       "      <td>cyanrser</td>\n",
       "    </tr>\n",
       "  </tbody>\n",
       "</table>\n",
       "</div>"
      ],
      "text/plain": [
       "       task_id  duration_sec           result  product_id  using agent_login\n",
       "4166   1561170           0.0  Дозвон, Успешно           4    0.0    cyanrser\n",
       "4778   1755964           0.0  Дозвон, Успешно           4    0.0    cyanrser\n",
       "8747   3097008           0.0  Дозвон, Успешно           4    0.0    cyanrser\n",
       "8878   3139115           0.0  Дозвон, Успешно           4    0.0    cyanrser\n",
       "10804  3920798           0.0  Дозвон, Успешно           4    0.0    cyanrser"
      ]
     },
     "execution_count": 43,
     "metadata": {},
     "output_type": "execute_result"
    }
   ],
   "source": [
    "df[(df[\"duration_sec\"]==0) & (df[\"result\"]==\"Дозвон, Успешно\")].head(5)"
   ]
  },
  {
   "cell_type": "markdown",
   "metadata": {},
   "source": [
    "# Изучиние и проверка данных\n",
    "\n",
    "Количество уникальных заданий:"
   ]
  },
  {
   "cell_type": "code",
   "execution_count": 44,
   "metadata": {},
   "outputs": [
    {
     "name": "stdout",
     "output_type": "stream",
     "text": [
      "Заданий в таблице: 50000\n"
     ]
    }
   ],
   "source": [
    "task = df[\"task_id\"].nunique()\n",
    "print(\"Заданий в таблице:\", task)"
   ]
  },
  {
   "cell_type": "markdown",
   "metadata": {},
   "source": [
    "Количество операторов"
   ]
  },
  {
   "cell_type": "code",
   "execution_count": 45,
   "metadata": {},
   "outputs": [
    {
     "name": "stdout",
     "output_type": "stream",
     "text": [
      "Операторов в таблице: 1962\n"
     ]
    }
   ],
   "source": [
    "agent = df[\"agent_login\"].nunique()\n",
    "print(\"Операторов в таблице:\", agent)"
   ]
  },
  {
   "cell_type": "markdown",
   "metadata": {},
   "source": [
    "Среднее количество заданий на оператора"
   ]
  },
  {
   "cell_type": "code",
   "execution_count": 46,
   "metadata": {},
   "outputs": [
    {
     "name": "stdout",
     "output_type": "stream",
     "text": [
      "Среднее кол-во заданий на оператора = 25.5\n"
     ]
    }
   ],
   "source": [
    "print(\"Среднее кол-во заданий на оператора =\", round((task / agent), 1))"
   ]
  },
  {
   "cell_type": "markdown",
   "metadata": {},
   "source": [
    "Распределение количества заданий на операторов"
   ]
  },
  {
   "cell_type": "code",
   "execution_count": 47,
   "metadata": {},
   "outputs": [
    {
     "data": {
      "text/plain": [
       "count    1962.000000\n",
       "mean       45.245668\n",
       "std        32.836464\n",
       "min         1.000000\n",
       "25%        19.000000\n",
       "50%        39.000000\n",
       "75%        66.000000\n",
       "max       184.000000\n",
       "Name: task_id, dtype: float64"
      ]
     },
     "execution_count": 47,
     "metadata": {},
     "output_type": "execute_result"
    }
   ],
   "source": [
    "event_per_user = df.groupby(\"agent_login\")[\"task_id\"].count()\n",
    "event_per_user.describe()"
   ]
  },
  {
   "cell_type": "code",
   "execution_count": 48,
   "metadata": {},
   "outputs": [
    {
     "data": {
      "image/png": "[encoded data removed]",
      "text/plain": [
       "<Figure size 1500x400 with 1 Axes>"
      ]
     },
     "metadata": {},
     "output_type": "display_data"
    }
   ],
   "source": [
    "plt.figure(figsize=(15,4))\n",
    "plt.hist(event_per_user, bins=100, range=(20,184)) \n",
    "plt.xlabel(\"Кол-во операторов\")\n",
    "plt.grid()\n",
    "plt.ylabel(\"Кол-во аданий\")\n",
    "plt.title(\"Кол-ва заданий на оператора\");"
   ]
  },
  {
   "cell_type": "markdown",
   "metadata": {},
   "source": [
    "## Изучение воронки продаж"
   ]
  },
  {
   "cell_type": "markdown",
   "metadata": {},
   "source": [
    "Посмотрим, какие исходы есть в логах, как часто они встречаются"
   ]
  },
  {
   "cell_type": "code",
   "execution_count": 49,
   "metadata": {},
   "outputs": [
    {
     "data": {
      "application/vnd.plotly.v1+json": {
       "config": {
        "plotlyServerURL": "https://plot.ly"
       },
       "data": [
        {
         "labels": [
          "Недозвон",
          "Дозвон, Отказ",
          "Дозвон, Перезвонить",
          "Дозвон, Успешно",
          "Дозвон, Отложить",
          "Не было звонка",
          "Дозвон, Некорректное задание по звонку"
         ],
         "title": {
          "text": "Доли событий"
         },
         "type": "pie",
         "values": [
          50064,
          18459,
          15108,
          3305,
          1680,
          130,
          26
         ]
        }
       ],
       "layout": {
        "template": {
         "data": {
          "bar": [
           {
            "error_x": {
             "color": "#2a3f5f"
            },
            "error_y": {
             "color": "#2a3f5f"
            },
            "marker": {
             "line": {
              "color": "#E5ECF6",
              "width": 0.5
             },
             "pattern": {
              "fillmode": "overlay",
              "size": 10,
              "solidity": 0.2
             }
            },
            "type": "bar"
           }
          ],
          "barpolar": [
           {
            "marker": {
             "line": {
              "color": "#E5ECF6",
              "width": 0.5
             },
             "pattern": {
              "fillmode": "overlay",
              "size": 10,
              "solidity": 0.2
             }
            },
            "type": "barpolar"
           }
          ],
          "carpet": [
           {
            "aaxis": {
             "endlinecolor": "#2a3f5f",
             "gridcolor": "white",
             "linecolor": "white",
             "minorgridcolor": "white",
             "startlinecolor": "#2a3f5f"
            },
            "baxis": {
             "endlinecolor": "#2a3f5f",
             "gridcolor": "white",
             "linecolor": "white",
             "minorgridcolor": "white",
             "startlinecolor": "#2a3f5f"
            },
            "type": "carpet"
           }
          ],
          "choropleth": [
           {
            "colorbar": {
             "outlinewidth": 0,
             "ticks": ""
            },
            "type": "choropleth"
           }
          ],
          "contour": [
           {
            "colorbar": {
             "outlinewidth": 0,
             "ticks": ""
            },
            "colorscale": [
             [
              0,
              "#0d0887"
             ],
             [
              0.1111111111111111,
              "#46039f"
             ],
             [
              0.2222222222222222,
              "#7201a8"
             ],
             [
              0.3333333333333333,
              "#9c179e"
             ],
             [
              0.4444444444444444,
              "#bd3786"
             ],
             [
              0.5555555555555556,
              "#d8576b"
             ],
             [
              0.6666666666666666,
              "#ed7953"
             ],
             [
              0.7777777777777778,
              "#fb9f3a"
             ],
             [
              0.8888888888888888,
              "#fdca26"
             ],
             [
              1,
              "#f0f921"
             ]
            ],
            "type": "contour"
           }
          ],
          "contourcarpet": [
           {
            "colorbar": {
             "outlinewidth": 0,
             "ticks": ""
            },
            "type": "contourcarpet"
           }
          ],
          "heatmap": [
           {
            "colorbar": {
             "outlinewidth": 0,
             "ticks": ""
            },
            "colorscale": [
             [
              0,
              "#0d0887"
             ],
             [
              0.1111111111111111,
              "#46039f"
             ],
             [
              0.2222222222222222,
              "#7201a8"
             ],
             [
              0.3333333333333333,
              "#9c179e"
             ],
             [
              0.4444444444444444,
              "#bd3786"
             ],
             [
              0.5555555555555556,
              "#d8576b"
             ],
             [
              0.6666666666666666,
              "#ed7953"
             ],
             [
              0.7777777777777778,
              "#fb9f3a"
             ],
             [
              0.8888888888888888,
              "#fdca26"
             ],
             [
              1,
              "#f0f921"
             ]
            ],
            "type": "heatmap"
           }
          ],
          "heatmapgl": [
           {
            "colorbar": {
             "outlinewidth": 0,
             "ticks": ""
            },
            "colorscale": [
             [
              0,
              "#0d0887"
             ],
             [
              0.1111111111111111,
              "#46039f"
             ],
             [
              0.2222222222222222,
              "#7201a8"
             ],
             [
              0.3333333333333333,
              "#9c179e"
             ],
             [
              0.4444444444444444,
              "#bd3786"
             ],
             [
              0.5555555555555556,
              "#d8576b"
             ],
             [
              0.6666666666666666,
              "#ed7953"
             ],
             [
              0.7777777777777778,
              "#fb9f3a"
             ],
             [
              0.8888888888888888,
              "#fdca26"
             ],
             [
              1,
              "#f0f921"
             ]
            ],
            "type": "heatmapgl"
           }
          ],
          "histogram": [
           {
            "marker": {
             "pattern": {
              "fillmode": "overlay",
              "size": 10,
              "solidity": 0.2
             }
            },
            "type": "histogram"
           }
          ],
          "histogram2d": [
           {
            "colorbar": {
             "outlinewidth": 0,
             "ticks": ""
            },
            "colorscale": [
             [
              0,
              "#0d0887"
             ],
             [
              0.1111111111111111,
              "#46039f"
             ],
             [
              0.2222222222222222,
              "#7201a8"
             ],
             [
              0.3333333333333333,
              "#9c179e"
             ],
             [
              0.4444444444444444,
              "#bd3786"
             ],
             [
              0.5555555555555556,
              "#d8576b"
             ],
             [
              0.6666666666666666,
              "#ed7953"
             ],
             [
              0.7777777777777778,
              "#fb9f3a"
             ],
             [
              0.8888888888888888,
              "#fdca26"
             ],
             [
              1,
              "#f0f921"
             ]
            ],
            "type": "histogram2d"
           }
          ],
          "histogram2dcontour": [
           {
            "colorbar": {
             "outlinewidth": 0,
             "ticks": ""
            },
            "colorscale": [
             [
              0,
              "#0d0887"
             ],
             [
              0.1111111111111111,
              "#46039f"
             ],
             [
              0.2222222222222222,
              "#7201a8"
             ],
             [
              0.3333333333333333,
              "#9c179e"
             ],
             [
              0.4444444444444444,
              "#bd3786"
             ],
             [
              0.5555555555555556,
              "#d8576b"
             ],
             [
              0.6666666666666666,
              "#ed7953"
             ],
             [
              0.7777777777777778,
              "#fb9f3a"
             ],
             [
              0.8888888888888888,
              "#fdca26"
             ],
             [
              1,
              "#f0f921"
             ]
            ],
            "type": "histogram2dcontour"
           }
          ],
          "mesh3d": [
           {
            "colorbar": {
             "outlinewidth": 0,
             "ticks": ""
            },
            "type": "mesh3d"
           }
          ],
          "parcoords": [
           {
            "line": {
             "colorbar": {
              "outlinewidth": 0,
              "ticks": ""
             }
            },
            "type": "parcoords"
           }
          ],
          "pie": [
           {
            "automargin": true,
            "type": "pie"
           }
          ],
          "scatter": [
           {
            "fillpattern": {
             "fillmode": "overlay",
             "size": 10,
             "solidity": 0.2
            },
            "type": "scatter"
           }
          ],
          "scatter3d": [
           {
            "line": {
             "colorbar": {
              "outlinewidth": 0,
              "ticks": ""
             }
            },
            "marker": {
             "colorbar": {
              "outlinewidth": 0,
              "ticks": ""
             }
            },
            "type": "scatter3d"
           }
          ],
          "scattercarpet": [
           {
            "marker": {
             "colorbar": {
              "outlinewidth": 0,
              "ticks": ""
             }
            },
            "type": "scattercarpet"
           }
          ],
          "scattergeo": [
           {
            "marker": {
             "colorbar": {
              "outlinewidth": 0,
              "ticks": ""
             }
            },
            "type": "scattergeo"
           }
          ],
          "scattergl": [
           {
            "marker": {
             "colorbar": {
              "outlinewidth": 0,
              "ticks": ""
             }
            },
            "type": "scattergl"
           }
          ],
          "scattermapbox": [
           {
            "marker": {
             "colorbar": {
              "outlinewidth": 0,
              "ticks": ""
             }
            },
            "type": "scattermapbox"
           }
          ],
          "scatterpolar": [
           {
            "marker": {
             "colorbar": {
              "outlinewidth": 0,
              "ticks": ""
             }
            },
            "type": "scatterpolar"
           }
          ],
          "scatterpolargl": [
           {
            "marker": {
             "colorbar": {
              "outlinewidth": 0,
              "ticks": ""
             }
            },
            "type": "scatterpolargl"
           }
          ],
          "scatterternary": [
           {
            "marker": {
             "colorbar": {
              "outlinewidth": 0,
              "ticks": ""
             }
            },
            "type": "scatterternary"
           }
          ],
          "surface": [
           {
            "colorbar": {
             "outlinewidth": 0,
             "ticks": ""
            },
            "colorscale": [
             [
              0,
              "#0d0887"
             ],
             [
              0.1111111111111111,
              "#46039f"
             ],
             [
              0.2222222222222222,
              "#7201a8"
             ],
             [
              0.3333333333333333,
              "#9c179e"
             ],
             [
              0.4444444444444444,
              "#bd3786"
             ],
             [
              0.5555555555555556,
              "#d8576b"
             ],
             [
              0.6666666666666666,
              "#ed7953"
             ],
             [
              0.7777777777777778,
              "#fb9f3a"
             ],
             [
              0.8888888888888888,
              "#fdca26"
             ],
             [
              1,
              "#f0f921"
             ]
            ],
            "type": "surface"
           }
          ],
          "table": [
           {
            "cells": {
             "fill": {
              "color": "#EBF0F8"
             },
             "line": {
              "color": "white"
             }
            },
            "header": {
             "fill": {
              "color": "#C8D4E3"
             },
             "line": {
              "color": "white"
             }
            },
            "type": "table"
           }
          ]
         },
         "layout": {
          "annotationdefaults": {
           "arrowcolor": "#2a3f5f",
           "arrowhead": 0,
           "arrowwidth": 1
          },
          "autotypenumbers": "strict",
          "coloraxis": {
           "colorbar": {
            "outlinewidth": 0,
            "ticks": ""
           }
          },
          "colorscale": {
           "diverging": [
            [
             0,
             "#8e0152"
            ],
            [
             0.1,
             "#c51b7d"
            ],
            [
             0.2,
             "#de77ae"
            ],
            [
             0.3,
             "#f1b6da"
            ],
            [
             0.4,
             "#fde0ef"
            ],
            [
             0.5,
             "#f7f7f7"
            ],
            [
             0.6,
             "#e6f5d0"
            ],
            [
             0.7,
             "#b8e186"
            ],
            [
             0.8,
             "#7fbc41"
            ],
            [
             0.9,
             "#4d9221"
            ],
            [
             1,
             "#276419"
            ]
           ],
           "sequential": [
            [
             0,
             "#0d0887"
            ],
            [
             0.1111111111111111,
             "#46039f"
            ],
            [
             0.2222222222222222,
             "#7201a8"
            ],
            [
             0.3333333333333333,
             "#9c179e"
            ],
            [
             0.4444444444444444,
             "#bd3786"
            ],
            [
             0.5555555555555556,
             "#d8576b"
            ],
            [
             0.6666666666666666,
             "#ed7953"
            ],
            [
             0.7777777777777778,
             "#fb9f3a"
            ],
            [
             0.8888888888888888,
             "#fdca26"
            ],
            [
             1,
             "#f0f921"
            ]
           ],
           "sequentialminus": [
            [
             0,
             "#0d0887"
            ],
            [
             0.1111111111111111,
             "#46039f"
            ],
            [
             0.2222222222222222,
             "#7201a8"
            ],
            [
             0.3333333333333333,
             "#9c179e"
            ],
            [
             0.4444444444444444,
             "#bd3786"
            ],
            [
             0.5555555555555556,
             "#d8576b"
            ],
            [
             0.6666666666666666,
             "#ed7953"
            ],
            [
             0.7777777777777778,
             "#fb9f3a"
            ],
            [
             0.8888888888888888,
             "#fdca26"
            ],
            [
             1,
             "#f0f921"
            ]
           ]
          },
          "colorway": [
           "#636efa",
           "#EF553B",
           "#00cc96",
           "#ab63fa",
           "#FFA15A",
           "#19d3f3",
           "#FF6692",
           "#B6E880",
           "#FF97FF",
           "#FECB52"
          ],
          "font": {
           "color": "#2a3f5f"
          },
          "geo": {
           "bgcolor": "white",
           "lakecolor": "white",
           "landcolor": "#E5ECF6",
           "showlakes": true,
           "showland": true,
           "subunitcolor": "white"
          },
          "hoverlabel": {
           "align": "left"
          },
          "hovermode": "closest",
          "mapbox": {
           "style": "light"
          },
          "paper_bgcolor": "white",
          "plot_bgcolor": "#E5ECF6",
          "polar": {
           "angularaxis": {
            "gridcolor": "white",
            "linecolor": "white",
            "ticks": ""
           },
           "bgcolor": "#E5ECF6",
           "radialaxis": {
            "gridcolor": "white",
            "linecolor": "white",
            "ticks": ""
           }
          },
          "scene": {
           "xaxis": {
            "backgroundcolor": "#E5ECF6",
            "gridcolor": "white",
            "gridwidth": 2,
            "linecolor": "white",
            "showbackground": true,
            "ticks": "",
            "zerolinecolor": "white"
           },
           "yaxis": {
            "backgroundcolor": "#E5ECF6",
            "gridcolor": "white",
            "gridwidth": 2,
            "linecolor": "white",
            "showbackground": true,
            "ticks": "",
            "zerolinecolor": "white"
           },
           "zaxis": {
            "backgroundcolor": "#E5ECF6",
            "gridcolor": "white",
            "gridwidth": 2,
            "linecolor": "white",
            "showbackground": true,
            "ticks": "",
            "zerolinecolor": "white"
           }
          },
          "shapedefaults": {
           "line": {
            "color": "#2a3f5f"
           }
          },
          "ternary": {
           "aaxis": {
            "gridcolor": "white",
            "linecolor": "white",
            "ticks": ""
           },
           "baxis": {
            "gridcolor": "white",
            "linecolor": "white",
            "ticks": ""
           },
           "bgcolor": "#E5ECF6",
           "caxis": {
            "gridcolor": "white",
            "linecolor": "white",
            "ticks": ""
           }
          },
          "title": {
           "x": 0.05
          },
          "xaxis": {
           "automargin": true,
           "gridcolor": "white",
           "linecolor": "white",
           "ticks": "",
           "title": {
            "standoff": 15
           },
           "zerolinecolor": "white",
           "zerolinewidth": 2
          },
          "yaxis": {
           "automargin": true,
           "gridcolor": "white",
           "linecolor": "white",
           "ticks": "",
           "title": {
            "standoff": 15
           },
           "zerolinecolor": "white",
           "zerolinewidth": 2
          }
         }
        }
       }
      }
     },
     "metadata": {},
     "output_type": "display_data"
    }
   ],
   "source": [
    "fig = go.Figure(data=[go.Pie(labels=df['result'].value_counts().index, values=df['result'].value_counts(), \\\n",
    "                             title='Доли событий')])\n",
    "fig.show()"
   ]
  },
  {
   "cell_type": "markdown",
   "metadata": {},
   "source": [
    "*Больше половины (56.4%) исходов это - \"Недозвон\", вторая половина это другие 6 событий: \"Дозвон, Отказ\" (20.8%), \"Дозвон, Перезвонить\" (17%), \"Дозвон, Успешно\" (3.72%) и \"Дозвон, Отложить\" (1.89%). Остальное - \"Не было звонка\" (0,15%) и \"Дозвон, Некорректное задание по звонку\" (0.03%), почти незаметно, им похоже можно пренебречь в будущем, к тому же какую пользу можно извлечь из этой информации пока не понятно.*"
   ]
  },
  {
   "cell_type": "code",
   "execution_count": null,
   "metadata": {},
   "outputs": [],
   "source": []
  }
 ],
 "metadata": {
  "kernelspec": {
   "display_name": "Python 3",
   "language": "python",
   "name": "python3"
  },
  "language_info": {
   "codemirror_mode": {
    "name": "ipython",
    "version": 3
   },
   "file_extension": ".py",
   "mimetype": "text/x-python",
   "name": "python",
   "nbconvert_exporter": "python",
   "pygments_lexer": "ipython3",
   "version": "3.8.10"
  },
  "orig_nbformat": 4
 },
 "nbformat": 4,
 "nbformat_minor": 2
}
