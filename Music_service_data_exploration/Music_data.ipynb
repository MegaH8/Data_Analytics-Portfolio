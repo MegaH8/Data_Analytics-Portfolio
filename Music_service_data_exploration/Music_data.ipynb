{
 "cells": [
  {
   "attachments": {},
   "cell_type": "markdown",
   "metadata": {},
   "source": [
    "# **Исследование данных музыкального сервиса - сравнение музыкальных предпочтений пользователей двух городов**\n",
    "---\n",
    "\n",
    "**Цель исследования** — проверка трёх гипотез:\n",
    "1. Активность пользователей зависит от дня недели. Причём в в разных городах это проявляется по-разному.\n",
    "2. В понедельник в одном городе преобладают одни жанры, а в другом — другие. Так же и в пятницу преобладают разные жанры — в зависимости от города.\n",
    "3. В разных городах предпочитают разные жанры музыки.\n",
    "\n",
    "**Ход исследования**\n",
    "\n",
    "Данные о поведении пользователей хранятся взяты с kaggle. О качестве данных ничего не известно. Поэтому перед проверкой гипотез понадобится обзор данных. \n",
    "\n",
    "Необходимо проверить данные на ошибки и оценить их влияние на исследование. Затем, на этапе предобработки следует поискать возможность исправить самые критичные ошибки данных.\n",
    " \n",
    "Таким образом, исследование пройдёт в три этапа:\n",
    " 1. Обзор данных.\n",
    " 2. Предобработка данных.\n",
    " 3. Проверка гипотез.\n",
    "\n",
    "---"
   ]
  },
  {
   "attachments": {},
   "cell_type": "markdown",
   "metadata": {},
   "source": [
    "## Обзор данных\n",
    "\n",
    "Составим первое представление о данных."
   ]
  },
  {
   "cell_type": "code",
   "execution_count": 3,
   "metadata": {},
   "outputs": [],
   "source": [
    "import pandas as pd\n",
    "import matplotlib.pyplot as plt\n",
    "import datetime"
   ]
  },
  {
   "attachments": {},
   "cell_type": "markdown",
   "metadata": {},
   "source": [
    "Прочитаем файлы, соедим, отберём нужные столбцы и сохраним его в файл `df_songs.csv`:"
   ]
  },
  {
   "cell_type": "code",
   "execution_count": 4,
   "metadata": {},
   "outputs": [],
   "source": [
    "song_df = pd.read_csv('songs.csv')\n",
    "song_ex_df = pd.read_csv('song_extra_info.csv')\n",
    "user_df = pd.read_csv('members.csv')\n",
    "train_df = pd.read_csv('train.csv')\n",
    "s_se = pd.merge(train_df, song_df, on='song_id', how='left')\n",
    "s_se_t = pd.merge(s_se, song_ex_df, on='song_id', how='left')\n",
    "songs = pd.merge(s_se_t, user_df, on='msno', how='left')\n",
    "songs = songs.iloc[:, [0, 12, 8, 7, 14, 6, 18]] # Оставляем только нужные столбцы\n",
    "del song_df, song_ex_df, user_df, train_df, s_se, s_se_t"
   ]
  },
  {
   "attachments": {},
   "cell_type": "markdown",
   "metadata": {},
   "source": [
    "Для анализа возьмем 8й и 9й город."
   ]
  },
  {
   "cell_type": "code",
   "execution_count": 5,
   "metadata": {},
   "outputs": [],
   "source": [
    "songs.city.value_counts()\n",
    "songs = songs.loc[(songs.city == 8) | (songs.city == 9)]\n",
    "songs = songs.reset_index(drop=True)\n",
    "songs.to_csv('df_songs.csv',)"
   ]
  },
  {
   "cell_type": "code",
   "execution_count": 6,
   "metadata": {},
   "outputs": [
    {
     "data": {
      "text/html": [
       "<div>\n",
       "<style scoped>\n",
       "    .dataframe tbody tr th:only-of-type {\n",
       "        vertical-align: middle;\n",
       "    }\n",
       "\n",
       "    .dataframe tbody tr th {\n",
       "        vertical-align: top;\n",
       "    }\n",
       "\n",
       "    .dataframe thead th {\n",
       "        text-align: right;\n",
       "    }\n",
       "</style>\n",
       "<table border=\"1\" class=\"dataframe\">\n",
       "  <thead>\n",
       "    <tr style=\"text-align: right;\">\n",
       "      <th></th>\n",
       "      <th>msno</th>\n",
       "      <th>name</th>\n",
       "      <th>artist_name</th>\n",
       "      <th>genre_ids</th>\n",
       "      <th>city</th>\n",
       "      <th>song_length</th>\n",
       "      <th>registration_init_time</th>\n",
       "    </tr>\n",
       "  </thead>\n",
       "  <tbody>\n",
       "    <tr>\n",
       "      <th>0</th>\n",
       "      <td>uQQHTQJ1nVEkBfbXe0f1/J9ML5eQhsQiocCV5TvvCRI=</td>\n",
       "      <td>雨天 (雨天)</td>\n",
       "      <td>孫燕姿 (Yanzi Sun)</td>\n",
       "      <td>465</td>\n",
       "      <td>9</td>\n",
       "      <td>241975.0</td>\n",
       "      <td>20130912</td>\n",
       "    </tr>\n",
       "    <tr>\n",
       "      <th>1</th>\n",
       "      <td>uQQHTQJ1nVEkBfbXe0f1/J9ML5eQhsQiocCV5TvvCRI=</td>\n",
       "      <td>EGO-HOLIC戀我癖 (EGO-HOLIC)</td>\n",
       "      <td>陳星翰 (Starr Chen)</td>\n",
       "      <td>458</td>\n",
       "      <td>9</td>\n",
       "      <td>189846.0</td>\n",
       "      <td>20130912</td>\n",
       "    </tr>\n",
       "    <tr>\n",
       "      <th>2</th>\n",
       "      <td>uQQHTQJ1nVEkBfbXe0f1/J9ML5eQhsQiocCV5TvvCRI=</td>\n",
       "      <td>愛死你</td>\n",
       "      <td>莫文蔚 (Karen Mok)</td>\n",
       "      <td>465</td>\n",
       "      <td>9</td>\n",
       "      <td>247911.0</td>\n",
       "      <td>20130912</td>\n",
       "    </tr>\n",
       "    <tr>\n",
       "      <th>3</th>\n",
       "      <td>uQQHTQJ1nVEkBfbXe0f1/J9ML5eQhsQiocCV5TvvCRI=</td>\n",
       "      <td>麥來亂</td>\n",
       "      <td>五月天 (Mayday)</td>\n",
       "      <td>465</td>\n",
       "      <td>9</td>\n",
       "      <td>257671.0</td>\n",
       "      <td>20130912</td>\n",
       "    </tr>\n",
       "    <tr>\n",
       "      <th>4</th>\n",
       "      <td>Ix1RlLsCGktMc8Q5oogErdJbfKL+HYj116+bYZ4qzMc=</td>\n",
       "      <td>愛久見人心</td>\n",
       "      <td>梁靜茹 (Fish Leong)</td>\n",
       "      <td>458</td>\n",
       "      <td>8</td>\n",
       "      <td>296542.0</td>\n",
       "      <td>20130722</td>\n",
       "    </tr>\n",
       "  </tbody>\n",
       "</table>\n",
       "</div>"
      ],
      "text/plain": [
       "                                           msno                      name  \\\n",
       "0  uQQHTQJ1nVEkBfbXe0f1/J9ML5eQhsQiocCV5TvvCRI=                   雨天 (雨天)   \n",
       "1  uQQHTQJ1nVEkBfbXe0f1/J9ML5eQhsQiocCV5TvvCRI=  EGO-HOLIC戀我癖 (EGO-HOLIC)   \n",
       "2  uQQHTQJ1nVEkBfbXe0f1/J9ML5eQhsQiocCV5TvvCRI=                       愛死你   \n",
       "3  uQQHTQJ1nVEkBfbXe0f1/J9ML5eQhsQiocCV5TvvCRI=                       麥來亂   \n",
       "4  Ix1RlLsCGktMc8Q5oogErdJbfKL+HYj116+bYZ4qzMc=                     愛久見人心   \n",
       "\n",
       "        artist_name genre_ids  city  song_length  registration_init_time  \n",
       "0   孫燕姿 (Yanzi Sun)       465     9     241975.0                20130912  \n",
       "1  陳星翰 (Starr Chen)       458     9     189846.0                20130912  \n",
       "2   莫文蔚 (Karen Mok)       465     9     247911.0                20130912  \n",
       "3      五月天 (Mayday)       465     9     257671.0                20130912  \n",
       "4  梁靜茹 (Fish Leong)       458     8     296542.0                20130722  "
      ]
     },
     "execution_count": 6,
     "metadata": {},
     "output_type": "execute_result"
    }
   ],
   "source": [
    "songs.head()"
   ]
  },
  {
   "cell_type": "code",
   "execution_count": 7,
   "metadata": {},
   "outputs": [
    {
     "name": "stdout",
     "output_type": "stream",
     "text": [
      "<class 'pandas.core.frame.DataFrame'>\n",
      "RangeIndex: 180971 entries, 0 to 180970\n",
      "Data columns (total 7 columns):\n",
      " #   Column                  Non-Null Count   Dtype  \n",
      "---  ------                  --------------   -----  \n",
      " 0   msno                    180971 non-null  object \n",
      " 1   name                    180936 non-null  object \n",
      " 2   artist_name             180969 non-null  object \n",
      " 3   genre_ids               178048 non-null  object \n",
      " 4   city                    180971 non-null  int64  \n",
      " 5   song_length             180969 non-null  float64\n",
      " 6   registration_init_time  180971 non-null  int64  \n",
      "dtypes: float64(1), int64(2), object(4)\n",
      "memory usage: 9.7+ MB\n"
     ]
    }
   ],
   "source": [
    "songs.info()"
   ]
  },
  {
   "attachments": {},
   "cell_type": "markdown",
   "metadata": {},
   "source": [
    "Итак, в таблице у нас получилось семь столбцов.\n",
    "\n",
    "Согласно документации к данным:\n",
    "* `msno` — идентификатор пользователя;\n",
    "* `name` — название трека;  \n",
    "* `artist_name` — имя исполнителя;\n",
    "* `genre_ids` — id жанра;\n",
    "* `city` — город пользователя;\n",
    "* `song_length` — длительность песни;\n",
    "* `registration_init_time` — дата первого прослушивания;\n",
    "\n",
    "\n",
    "Количество значений в столбцах различается. Значит, в данных есть пропущенные значения."
   ]
  },
  {
   "attachments": {},
   "cell_type": "markdown",
   "metadata": {},
   "source": [
    "#### **Выводы**\n",
    "\n",
    "В каждой строке таблицы — данные о прослушанном треке. Часть колонок описывает саму композицию: название, исполнителя и жанр. Остальные данные рассказывают о пользователе: из какого он города, когда он слушал музыку.\n",
    "\n",
    "Предварительно можно утверждать, что, данных достаточно для проверки гипотез. Но встречаются пропуски в данных.\n",
    "\n",
    "Пропуски в данных наблюдаются только в колонках, описывающих саму композицию, что может свидетельствовать об ошибках при извлечении данных о композициях, либо о том, что в системе поля Track, artist и genre_ids являются необязательными и теоретически возможна ситуация, когда все три поля будут пропущены одновременно. Целесообразно проконсультироваться с разработчиками.\n",
    "\n",
    "С точки зрения постановки задачи наиболее важным является столбец genre_ids.\n",
    "\n",
    "Чтобы двигаться дальше, устраним проблемы в данных."
   ]
  },
  {
   "attachments": {},
   "cell_type": "markdown",
   "metadata": {},
   "source": [
    "## **Предобработка данных**\n",
    "Исправим стиль в заголовках столбцов, исключим пропуски.\n",
    "\n",
    "### Стиль заголовков\n",
    "Выведем на экран названия столбцов:"
   ]
  },
  {
   "cell_type": "code",
   "execution_count": 8,
   "metadata": {},
   "outputs": [
    {
     "data": {
      "text/plain": [
       "Index(['msno', 'name', 'artist_name', 'genre_ids', 'city', 'song_length',\n",
       "       'registration_init_time'],\n",
       "      dtype='object')"
      ]
     },
     "execution_count": 8,
     "metadata": {},
     "output_type": "execute_result"
    }
   ],
   "source": [
    "songs.columns"
   ]
  },
  {
   "cell_type": "code",
   "execution_count": 9,
   "metadata": {},
   "outputs": [],
   "source": [
    "# Изменим названия на более понятные.\n",
    "songs = songs.rename(\n",
    "    columns={\n",
    "        'msno' : 'user_id',\n",
    "        'name' : 'track',\n",
    "        'artist_name' : 'artist',\n",
    "        'genre_ids' : 'genre_id',\n",
    "        'registration_init_time' : 'date'\n",
    "    }\n",
    ")"
   ]
  },
  {
   "cell_type": "code",
   "execution_count": 10,
   "metadata": {},
   "outputs": [
    {
     "data": {
      "text/plain": [
       "Index(['user_id', 'track', 'artist', 'genre_id', 'city', 'song_length',\n",
       "       'date'],\n",
       "      dtype='object')"
      ]
     },
     "execution_count": 10,
     "metadata": {},
     "output_type": "execute_result"
    }
   ],
   "source": [
    "# проверка результатов - перечень названий столбцов\n",
    "songs.columns"
   ]
  },
  {
   "attachments": {},
   "cell_type": "markdown",
   "metadata": {},
   "source": [
    "### Работа с пропущенными значениями\n",
    "Сначала посчитаем, сколько в таблице пропущенных значений:"
   ]
  },
  {
   "cell_type": "code",
   "execution_count": 11,
   "metadata": {},
   "outputs": [
    {
     "data": {
      "text/plain": [
       "user_id           0\n",
       "track            35\n",
       "artist            2\n",
       "genre_id       2923\n",
       "city              0\n",
       "song_length       2\n",
       "date              0\n",
       "dtype: int64"
      ]
     },
     "execution_count": 11,
     "metadata": {},
     "output_type": "execute_result"
    }
   ],
   "source": [
    "# подсчёт пропусков\n",
    "songs.isna().sum()"
   ]
  },
  {
   "cell_type": "code",
   "execution_count": 12,
   "metadata": {},
   "outputs": [],
   "source": [
    "columns_to_replace = ['track', 'artist', 'genre_id', 'song_length']\n",
    "\n",
    "for col in columns_to_replace:\n",
    "    songs[col] = songs[col].fillna('unknown')"
   ]
  },
  {
   "cell_type": "markdown",
   "metadata": {},
   "source": [
    "### Дубликаты\n",
    "Посчитаем явные дубликаты в таблице:"
   ]
  },
  {
   "cell_type": "code",
   "execution_count": 13,
   "metadata": {},
   "outputs": [
    {
     "data": {
      "text/plain": [
       "626"
      ]
     },
     "execution_count": 13,
     "metadata": {},
     "output_type": "execute_result"
    }
   ],
   "source": [
    "songs.duplicated().sum()"
   ]
  },
  {
   "cell_type": "markdown",
   "metadata": {},
   "source": [
    "Удалим явные дубликаты:"
   ]
  },
  {
   "cell_type": "code",
   "execution_count": 14,
   "metadata": {},
   "outputs": [],
   "source": [
    "# удаление явных дубликатов\n",
    "songs = songs.drop_duplicates()"
   ]
  },
  {
   "cell_type": "markdown",
   "metadata": {},
   "source": [
    "Ещё раз посчитаем явные дубликаты, чтобы убедиться, что полностью от них избавились:"
   ]
  },
  {
   "cell_type": "code",
   "execution_count": 15,
   "metadata": {},
   "outputs": [
    {
     "data": {
      "text/plain": [
       "0"
      ]
     },
     "execution_count": 15,
     "metadata": {},
     "output_type": "execute_result"
    }
   ],
   "source": [
    "# проверка на отсутствие дубликатов\n",
    "songs.duplicated().sum()"
   ]
  },
  {
   "cell_type": "markdown",
   "metadata": {},
   "source": [
    "Теперь избавимся от неявных дубликатов в колонке `genre_ids`. Например, в данных id могут быть записаны парами. Такие ошибки тоже повлияют на результат исследования."
   ]
  },
  {
   "cell_type": "markdown",
   "metadata": {},
   "source": [
    "Выведем на экран список уникальных названий жанров, отсортированный в алфавитном порядке. Для этого:\n",
    "* извлеките нужный столбец датафрейма\n",
    "* примените к нему метод сортировки\n",
    "* для отсортированного столбца вызовите метод, который вернёт уникальные значения из столбца"
   ]
  },
  {
   "cell_type": "code",
   "execution_count": 16,
   "metadata": {},
   "outputs": [
    {
     "data": {
      "text/plain": [
       "array(['1011', '1026', '1040', '1040|1155', '1047', '1054', '1082', '109',\n",
       "       '1096', '109|118', '109|139', '109|465', '109|94', '1117', '1138',\n",
       "       '1145', '1152', '1152|2022', '1152|242|947', '1152|465',\n",
       "       '1152|465|1180', '1152|726', '1152|786', '1152|829', '1152|921',\n",
       "       '1152|940', '1152|947', '1155', '118', '1180', '1180|2022',\n",
       "       '1180|465', '118|1259', '1208', '1259', '1259|359', '1266', '1273',\n",
       "       '1280', '1280|2093', '1287', '139', '139|1259', '139|1259|125|109',\n",
       "       '139|125|109', '139|444|109', '1568', '1572|275', '1598', '1605',\n",
       "       '1609', '1609|1259', '1609|139', '1609|1969|2100', '1609|2058',\n",
       "       '1609|2086|374', '1609|2107', '1609|2122', '1609|2122|2022',\n",
       "       '1609|359', '1609|458', '1609|465', '1609|786', '1609|947|2022',\n",
       "       '1616', '1616|1609', '1616|2058', '1616|2072', '1616|2116', '1633',\n",
       "       '1633|310', '1944|310', '1955', '1969', '1969|1609|2100',\n",
       "       '1988|1981|430', '2022', '2022|1259', '2022|1955', '2022|359',\n",
       "       '2029', '2032', '2072', '2079', '2086', '2086|374', '2093', '2107',\n",
       "       '2109', '2116|1609', '2116|1616', '212', '2122', '2122|1259',\n",
       "       '2122|139', '2122|139|125|109', '2122|374', '2122|691', '2122|786',\n",
       "       '2122|947', '2122|947|958', '2122|947|958|2022', '2122|958',\n",
       "       '2130', '2130|947|2122|139|125|109|798|958', '2144|458', '2157',\n",
       "       '2157|1259', '2157|921', '2176|2093', '2189|367', '2189|958|367',\n",
       "       '2194', '2213|465', '2248|1259', '242', '242|2022', '242|726',\n",
       "       '242|786', '242|947', '252', '275|1572|359', '275|1572|829', '352',\n",
       "       '352|1995', '352|275|1995|1572', '359', '374', '381|2086',\n",
       "       '381|2086|374', '388', '388|1152', '388|940', '402', '409',\n",
       "       '409|465', '423', '430', '430|359', '437', '437|1287', '444',\n",
       "       '444|1259', '444|139', '444|1609', '444|2022', '444|465',\n",
       "       '444|786', '444|829', '444|921', '451', '451|1259', '458',\n",
       "       '458|1287', '458|359', '465', '465|1011', '465|109', '465|1103',\n",
       "       '465|1259', '465|139', '465|139|109', '465|139|94', '465|1609',\n",
       "       '465|2022', '465|2122', '465|2122|109', '465|2189|367', '465|359',\n",
       "       '465|430', '465|451', '465|458', '465|691', '465|691|2189|367',\n",
       "       '465|726', '465|786', '465|798', '465|829', '465|873', '465|921',\n",
       "       '465|921|2122', '465|94', '465|958', '465|958|2022', '474', '481',\n",
       "       '509', '516', '531', '545', '656', '691', '698', '712', '719',\n",
       "       '726', '726|242', '726|458', '726|958', '786', '786|2022',\n",
       "       '786|2086|374', '786|2122', '786|242', '786|691', '786|726',\n",
       "       '786|798', '786|947', '786|947|2086|374', '786|947|2086|374|958',\n",
       "       '786|947|726|958', '786|958', '798', '822', '829', '829|359',\n",
       "       '829|430', '829|458', '864|786|850|857|843', '864|843',\n",
       "       '864|850|726|857|843', '864|850|857|2122|843',\n",
       "       '864|850|857|921|843', '864|857|850|843', '873', '873|1259',\n",
       "       '873|465', '873|786', '873|958', '880', '880|458', '880|545',\n",
       "       '893', '893|458', '900', '921', '921|359', '921|458', '921|465',\n",
       "       '921|726', '921|786', '921|947', '921|958', '94', '940',\n",
       "       '940|1152', '940|1609', '940|786', '947', '947|2022|958',\n",
       "       '947|726|958', '947|958|2022', '94|139', '94|95', '95', '958',\n",
       "       '958|2122', '958|947', '965', '972', '979', '986', 'unknown'],\n",
       "      dtype=object)"
      ]
     },
     "execution_count": 16,
     "metadata": {},
     "output_type": "execute_result"
    }
   ],
   "source": [
    "# Просмотр уникальных названий жанров\n",
    "songs['genre_id'].sort_values().unique()"
   ]
  },
  {
   "cell_type": "markdown",
   "metadata": {},
   "source": [
    "В списке выявлены следующие неявные дубликаты:\n",
    "Парные id\n",
    "\n",
    "Чтобы очистить от них таблицу, напишем функцию `replace_wrong_genres()` с одним параметром: \n",
    "* `gen` — список id\n",
    "\n",
    "Функция исправляет колонку `genre_id` в таблице `songs`: заменяет каждое значение c символом `|` на первый id."
   ]
  },
  {
   "cell_type": "code",
   "execution_count": 17,
   "metadata": {},
   "outputs": [],
   "source": [
    "# функция для замены неявных дубликатов\n",
    "def replace_wrong_genres(gen):\n",
    "    nw_gen = []\n",
    "    for i in gen:\n",
    "        index = i.find('|')\n",
    "        if index != -1:\n",
    "            i = i[:index]\n",
    "        nw_gen.append(i)\n",
    "    return nw_gen"
   ]
  },
  {
   "cell_type": "markdown",
   "metadata": {},
   "source": [
    "Устраним неявные дубликаты"
   ]
  },
  {
   "cell_type": "code",
   "execution_count": 18,
   "metadata": {},
   "outputs": [],
   "source": [
    "songs['genre_id'] = replace_wrong_genres(songs['genre_id'])"
   ]
  },
  {
   "cell_type": "markdown",
   "metadata": {},
   "source": [
    "Проверим корректность устранения неявных дубликатов. Выведем отсортированный список уникальных значений столбца `genre`:"
   ]
  },
  {
   "cell_type": "code",
   "execution_count": 19,
   "metadata": {},
   "outputs": [
    {
     "data": {
      "text/plain": [
       "array(['1011', '1026', '1040', '1047', '1054', '1082', '109', '1096',\n",
       "       '1117', '1138', '1145', '1152', '1155', '118', '1180', '1208',\n",
       "       '1259', '1266', '1273', '1280', '1287', '139', '1568', '1572',\n",
       "       '1598', '1605', '1609', '1616', '1633', '1944', '1955', '1969',\n",
       "       '1988', '2022', '2029', '2032', '2072', '2079', '2086', '2093',\n",
       "       '2107', '2109', '2116', '212', '2122', '2130', '2144', '2157',\n",
       "       '2176', '2189', '2194', '2213', '2248', '242', '252', '275', '352',\n",
       "       '359', '374', '381', '388', '402', '409', '423', '430', '437',\n",
       "       '444', '451', '458', '465', '474', '481', '509', '516', '531',\n",
       "       '545', '656', '691', '698', '712', '719', '726', '786', '798',\n",
       "       '822', '829', '864', '873', '880', '893', '900', '921', '94',\n",
       "       '940', '947', '95', '958', '965', '972', '979', '986', 'unknown'],\n",
       "      dtype=object)"
      ]
     },
     "execution_count": 19,
     "metadata": {},
     "output_type": "execute_result"
    }
   ],
   "source": [
    "# Проверка на неявные дубликаты\n",
    "songs['genre_id'].sort_values().unique()"
   ]
  },
  {
   "cell_type": "markdown",
   "metadata": {},
   "source": [
    "### Заменим данные в столбце `date` с полной даты на день недели.\n",
    "\n",
    "Напишим функцию, которая будет получать дату в формате ГГГГММДД и выдавать день недели. Для этого используем модуль datetime."
   ]
  },
  {
   "cell_type": "code",
   "execution_count": 20,
   "metadata": {},
   "outputs": [],
   "source": [
    "# Создадим словарь\n",
    "week_day = {0: 'Понедельник', 1: 'Вторник', 2: 'Среда', 3: 'Четверг', 4: 'Пятница', 5: 'Суббота', 6: 'Воскресенье'}\n",
    "\n",
    "def to_week_day(lst_date):\n",
    "    lst_week_day = []\n",
    "    for sdate in lst_date:\n",
    "        week_id = datetime.datetime(sdate//10000, sdate%10000//100, sdate%100)\n",
    "        lst_week_day.append(week_day[week_id.weekday()])  \n",
    "    return lst_week_day"
   ]
  },
  {
   "cell_type": "code",
   "execution_count": 21,
   "metadata": {},
   "outputs": [
    {
     "data": {
      "text/plain": [
       "0             Четверг\n",
       "1             Четверг\n",
       "2             Четверг\n",
       "3             Четверг\n",
       "4         Понедельник\n",
       "             ...     \n",
       "180966    Воскресенье\n",
       "180967    Воскресенье\n",
       "180968    Воскресенье\n",
       "180969    Воскресенье\n",
       "180970    Воскресенье\n",
       "Name: date, Length: 180345, dtype: object"
      ]
     },
     "execution_count": 21,
     "metadata": {},
     "output_type": "execute_result"
    }
   ],
   "source": [
    "songs['date'] = to_week_day(songs['date'])\n",
    "songs['date']"
   ]
  },
  {
   "cell_type": "markdown",
   "metadata": {},
   "source": [
    "**Выводы**\n",
    "\n",
    "Предобработка обнаружила три проблемы в данных:\n",
    "\n",
    "- нарушения в стиле заголовков,\n",
    "- пропущенные значения,\n",
    "- дубликаты — явные и неявные.\n",
    "\n",
    "Мы исправили заголовки, чтобы упростить работу с таблицей. Без дубликатов исследование станет более точным.\n",
    "\n",
    "Пропущенные значения мы заменили на `'unknown'`. Ещё предстоит увидеть, не повредят ли исследованию пропуски в колонке `genre_id`.\n",
    "\n",
    "Теперь можно перейти к проверке гипотез. \n",
    "\n",
    "---"
   ]
  },
  {
   "cell_type": "markdown",
   "metadata": {},
   "source": [
    "## Проверка гипотез\n",
    "\n",
    "### Сравним распределение активности по по дням недели для каждого города.\n",
    "\n",
    "Согласно первой гипотезе, пользователи из разных городов по разному прослушивают музыку.\n",
    "\n",
    "Город 8:"
   ]
  },
  {
   "cell_type": "code",
   "execution_count": null,
   "metadata": {},
   "outputs": [
    {
     "data": {
      "text/plain": [
       "date\n",
       "Воскресенье    19614\n",
       "Вторник         9364\n",
       "Понедельник    11809\n",
       "Пятница        14703\n",
       "Среда           6383\n",
       "Суббота        10420\n",
       "Четверг        13148\n",
       "Name: city, dtype: int64"
      ]
     },
     "execution_count": 81,
     "metadata": {},
     "output_type": "execute_result"
    }
   ],
   "source": [
    "event_week_8 = songs[songs['city']==8].groupby('date')['city'].count()\n",
    "event_week_8"
   ]
  },
  {
   "cell_type": "code",
   "execution_count": null,
   "metadata": {},
   "outputs": [
    {
     "data": {
      "text/plain": [
       "Text(0.5, 1.0, 'Количество прослушиваний по дням недели')"
      ]
     },
     "execution_count": 82,
     "metadata": {},
     "output_type": "execute_result"
    },
    {
     "data": {
      "image/png": "[encoded data removed]",
      "text/plain": [
       "<Figure size 1500x400 with 1 Axes>"
      ]
     },
     "metadata": {},
     "output_type": "display_data"
    }
   ],
   "source": [
    "plt.figure(figsize=(15,4))\n",
    "plt.bar(range(len(event_week_8)), event_week_8)\n",
    "plt.xlabel('День недели')\n",
    "plt.xticks(range(len(event_week_8)), event_week_8.index)\n",
    "plt.ylabel('Кол-во прослушиваний')\n",
    "plt.title('Количество прослушиваний по дням недели')"
   ]
  },
  {
   "cell_type": "markdown",
   "metadata": {},
   "source": [
    "*На графике видно, что больше всего прослушиваний приходится на воскресенье и меньше всего – на среду.*\n",
    "\n",
    "Город 9:"
   ]
  },
  {
   "cell_type": "code",
   "execution_count": null,
   "metadata": {},
   "outputs": [
    {
     "data": {
      "text/plain": [
       "date\n",
       "Воскресенье    12461\n",
       "Вторник        11647\n",
       "Понедельник    12302\n",
       "Пятница        13787\n",
       "Среда          14029\n",
       "Суббота        17083\n",
       "Четверг        13595\n",
       "Name: city, dtype: int64"
      ]
     },
     "execution_count": 83,
     "metadata": {},
     "output_type": "execute_result"
    }
   ],
   "source": [
    "event_week_9 = songs[songs['city']==9].groupby('date')['city'].count()\n",
    "event_week_9"
   ]
  },
  {
   "cell_type": "code",
   "execution_count": null,
   "metadata": {},
   "outputs": [
    {
     "data": {
      "text/plain": [
       "Text(0.5, 1.0, 'Количество прослушиваний по дням недели')"
      ]
     },
     "execution_count": 84,
     "metadata": {},
     "output_type": "execute_result"
    },
    {
     "data": {
      "image/png": "[encoded data removed]",
      "text/plain": [
       "<Figure size 1500x400 with 1 Axes>"
      ]
     },
     "metadata": {},
     "output_type": "display_data"
    }
   ],
   "source": [
    "plt.figure(figsize=(15,4))\n",
    "plt.bar(range(len(event_week_9)), event_week_9)\n",
    "plt.xlabel('День недели')\n",
    "plt.xticks(range(len(event_week_9)), event_week_9.index)\n",
    "plt.ylabel('Кол-во прослушиваний')\n",
    "plt.title('Количество прослушиваний по дням недели')"
   ]
  },
  {
   "cell_type": "markdown",
   "metadata": {},
   "source": [
    "*В субботу наибольшее количество прослушиваний, а во вторник наименьшее.*\n",
    "\n",
    "Таблица для сравнения двух городов"
   ]
  },
  {
   "cell_type": "code",
   "execution_count": null,
   "metadata": {},
   "outputs": [
    {
     "data": {
      "text/html": [
       "<div>\n",
       "<style scoped>\n",
       "    .dataframe tbody tr th:only-of-type {\n",
       "        vertical-align: middle;\n",
       "    }\n",
       "\n",
       "    .dataframe tbody tr th {\n",
       "        vertical-align: top;\n",
       "    }\n",
       "\n",
       "    .dataframe thead th {\n",
       "        text-align: right;\n",
       "    }\n",
       "</style>\n",
       "<table border=\"1\" class=\"dataframe\">\n",
       "  <thead>\n",
       "    <tr style=\"text-align: right;\">\n",
       "      <th></th>\n",
       "      <th>city</th>\n",
       "      <th>Воскресенье</th>\n",
       "      <th>Вторник</th>\n",
       "      <th>Понедельник</th>\n",
       "      <th>Пятница</th>\n",
       "      <th>Среда</th>\n",
       "      <th>Суббота</th>\n",
       "      <th>Четверг</th>\n",
       "    </tr>\n",
       "  </thead>\n",
       "  <tbody>\n",
       "    <tr>\n",
       "      <th>0</th>\n",
       "      <td>8</td>\n",
       "      <td>19614</td>\n",
       "      <td>9364</td>\n",
       "      <td>11809</td>\n",
       "      <td>14703</td>\n",
       "      <td>6383</td>\n",
       "      <td>10420</td>\n",
       "      <td>13148</td>\n",
       "    </tr>\n",
       "    <tr>\n",
       "      <th>1</th>\n",
       "      <td>9</td>\n",
       "      <td>12461</td>\n",
       "      <td>11647</td>\n",
       "      <td>12302</td>\n",
       "      <td>13787</td>\n",
       "      <td>14029</td>\n",
       "      <td>17083</td>\n",
       "      <td>13595</td>\n",
       "    </tr>\n",
       "  </tbody>\n",
       "</table>\n",
       "</div>"
      ],
      "text/plain": [
       "   city  Воскресенье  Вторник  Понедельник  Пятница  Среда  Суббота  Четверг\n",
       "0     8        19614     9364        11809    14703   6383    10420    13148\n",
       "1     9        12461    11647        12302    13787  14029    17083    13595"
      ]
     },
     "execution_count": 85,
     "metadata": {},
     "output_type": "execute_result"
    }
   ],
   "source": [
    "pd.DataFrame([[8, *event_week_8],\n",
    "             [9, *event_week_9]], columns=['city', *event_week_8.index])"
   ]
  },
  {
   "cell_type": "markdown",
   "metadata": {},
   "source": [
    "**Вывод**\n",
    "\n",
    "Данные показывают разницу поведения пользователей:\n",
    "\n",
    "- В городе 8 пик прослушиваний приходится на воскресенье, а в среду заметен спад.\n",
    "- В гророде 9, больше слушают музыку по субботам и менше по вторникам. \n",
    "\n",
    "Значит, данные говорят в пользу первой гипотезы."
   ]
  },
  {
   "cell_type": "markdown",
   "metadata": {},
   "source": [
    "### Музыка в начале и в конце недели\n",
    "\n",
    "Вторая гипотеза утверждает, что в начале и в конце недели пользователи разных городов слушают разные жанры музыки.\n",
    "\n",
    "Посмотрим на самые популярные жанры понедельника и пятницы для 8го города:"
   ]
  },
  {
   "cell_type": "code",
   "execution_count": null,
   "metadata": {},
   "outputs": [
    {
     "name": "stdout",
     "output_type": "stream",
     "text": [
      "Самый популярный жанр понедельника – 465 \n",
      "Самый популярный жанр пятницы – 465\n"
     ]
    }
   ],
   "source": [
    "city_8 = songs[(songs['city'] == 8)] #Данные города 8\n",
    "\n",
    "genre_mo_8 = city_8[city_8['date'] == 'Понедельник'].groupby('genre_id')['user_id'].count().sort_values(ascending=False)\n",
    "genre_fr_8 = city_8[city_8['date'] == 'Пятница'].groupby('genre_id')['user_id'].count().sort_values(ascending=False)\n",
    "\n",
    "print(f'Самый популярный жанр понедельника – {genre_mo_8.index[0]} \\nСамый популярный жанр пятницы – {genre_fr_8.index[0]}')"
   ]
  },
  {
   "cell_type": "markdown",
   "metadata": {},
   "source": [
    "Оказывается пользователи любят слушать один и тот же жанр как в понедельник так и в пятницу.\n",
    "\n",
    "Посмотрим на популярные жанры города 9:"
   ]
  },
  {
   "cell_type": "code",
   "execution_count": null,
   "metadata": {},
   "outputs": [
    {
     "name": "stdout",
     "output_type": "stream",
     "text": [
      "Самый популярный жанр понедельника – 465 \n",
      "Самый популярный жанр пятницы – 465\n"
     ]
    }
   ],
   "source": [
    "city_9 = songs[(songs['city'] == 9)] #Данные города 9\n",
    "\n",
    "genre_mo_9 = city_9[city_9['date'] == 'Понедельник'].groupby('genre_id')['user_id'].count().sort_values(ascending=False)\n",
    "genre_fr_9 = city_9[city_9['date'] == 'Пятница'].groupby('genre_id')['user_id'].count().sort_values(ascending=False)\n",
    "\n",
    "print(f'Самый популярный жанр понедельника – {genre_mo_9.index[0]} \\nСамый популярный жанр пятницы – {genre_fr_9.index[0]}')"
   ]
  },
  {
   "cell_type": "markdown",
   "metadata": {},
   "source": [
    "В городе 9 тоже в основном любят один жанр, не зависимо от дня недели.\n",
    "\n",
    "### Посмотрим топ-5 жанров для понедельника и пятницы:\n",
    "\n",
    "Город 8"
   ]
  },
  {
   "cell_type": "code",
   "execution_count": null,
   "metadata": {},
   "outputs": [
    {
     "data": {
      "text/plain": [
       "Text(0.5, 0, 'Id жанра')"
      ]
     },
     "execution_count": 88,
     "metadata": {},
     "output_type": "execute_result"
    },
    {
     "data": {
      "image/png": "[encoded data removed]",
      "text/plain": [
       "<Figure size 1300x400 with 2 Axes>"
      ]
     },
     "metadata": {},
     "output_type": "display_data"
    }
   ],
   "source": [
    "fig, (ax1, ax2) = plt.subplots(1, 2, sharey=True, figsize=(13,4))\n",
    "\n",
    "genre_mo_8.head(5).plot.bar(ax=ax1)\n",
    "ax1.set_ylabel('Количество прослушиваний',size=12)\n",
    "ax1.set_title('Понеделник', fontweight=\"bold\",size=14)\n",
    "ax1.set_xlabel('Id жанра',size=12)\n",
    "\n",
    "genre_fr_8.head(5).plot.bar(ax=ax2)\n",
    "ax2.set_title('Пятница', fontweight=\"bold\",size=14)\n",
    "ax2.set_xlabel('Id жанра',size=12)"
   ]
  },
  {
   "cell_type": "markdown",
   "metadata": {},
   "source": [
    "*Первые 4е позиции в топе идентичны.*\n",
    "\n",
    "\n",
    "Город 9"
   ]
  },
  {
   "cell_type": "code",
   "execution_count": null,
   "metadata": {},
   "outputs": [
    {
     "data": {
      "text/plain": [
       "Text(0.5, 0, 'Id жанра')"
      ]
     },
     "execution_count": 89,
     "metadata": {},
     "output_type": "execute_result"
    },
    {
     "data": {
      "image/png": "[encoded data removed]",
      "text/plain": [
       "<Figure size 1300x400 with 2 Axes>"
      ]
     },
     "metadata": {},
     "output_type": "display_data"
    }
   ],
   "source": [
    "fig, (ax3, ax4) = plt.subplots(1, 2, sharey=True, figsize=(13,4))\n",
    "genre_mo_9.head(5).plot.bar(ax=ax3)\n",
    "ax3.set_ylabel('Количество прослушиваний',size=12)\n",
    "ax3.set_xlabel('Id жанра',size=12)\n",
    "ax3.set_title('Понеделник', fontweight=\"bold\",size=14)\n",
    "\n",
    "genre_fr_9.head(5).plot.bar(ax=ax4)\n",
    "ax4.set_title('Пятница', fontweight=\"bold\",size=14)\n",
    "ax4.set_xlabel('Id жанра',size=12)"
   ]
  },
  {
   "cell_type": "markdown",
   "metadata": {},
   "source": [
    "*Тут видно, что первые 3 позиции в топе одинаковы для понедельника и пятницы.*"
   ]
  },
  {
   "cell_type": "markdown",
   "metadata": {},
   "source": [
    "**Вывод**\n",
    "\n",
    "Если сравнить топ-5 жанров в понедельник, можно сделать такие выводы:\n",
    "\n",
    "* В обоих городах слушают похожую музыку. Отличие можно заметить на 5м месте, но скорее всего если брать больше данных, то жанры будут стоять на почти аналогичных местах.\n",
    "\n",
    "Пятница слегка меняет эту картину.\n",
    "\n",
    "Таким образом, вторая гипотеза не подтвердилась:\n",
    "* Пользователи слушают похожую музыку в начале недели и в конце.\n",
    "* Разница между 8м и 9м городами не слишком выражена. В основном пользователи слушают музыку с идентификатором жанра 465 и 458."
   ]
  },
  {
   "cell_type": "markdown",
   "metadata": {},
   "source": [
    "### Жанровые предпочтения\n",
    "\n",
    "Третья гипотеза утверждает, что в разных городах пользователи предпочитают разную музыку.\n",
    "\n",
    "Посмотрим на топ-10 жанров для каждого из городов.\n",
    "\n",
    "Город 8"
   ]
  },
  {
   "cell_type": "code",
   "execution_count": null,
   "metadata": {},
   "outputs": [
    {
     "data": {
      "text/plain": [
       "genre_id\n",
       "465        44350\n",
       "458        15506\n",
       "1609        4672\n",
       "921         4065\n",
       "444         2802\n",
       "1259        2109\n",
       "2022        1701\n",
       "unknown     1375\n",
       "359         1014\n",
       "786          790\n",
       "Name: user_id, dtype: int64"
      ]
     },
     "execution_count": 90,
     "metadata": {},
     "output_type": "execute_result"
    }
   ],
   "source": [
    "genre_city_8 = city_8.groupby('genre_id')['user_id'].count().sort_values(ascending=False)\n",
    "genre_city_8.head(10)"
   ]
  },
  {
   "cell_type": "markdown",
   "metadata": {},
   "source": [
    "Город 9"
   ]
  },
  {
   "cell_type": "code",
   "execution_count": null,
   "metadata": {},
   "outputs": [
    {
     "data": {
      "text/plain": [
       "genre_id\n",
       "465        49510\n",
       "458        16560\n",
       "921         4947\n",
       "1609        3892\n",
       "444         3768\n",
       "1259        2604\n",
       "2022        2174\n",
       "unknown     1545\n",
       "139         1429\n",
       "359         1399\n",
       "Name: user_id, dtype: int64"
      ]
     },
     "execution_count": 91,
     "metadata": {},
     "output_type": "execute_result"
    }
   ],
   "source": [
    "genre_city_9 = city_9.groupby('genre_id')['user_id'].count().sort_values(ascending=False)\n",
    "genre_city_9.head(10)"
   ]
  },
  {
   "cell_type": "markdown",
   "metadata": {},
   "source": [
    "**Вывод**\n",
    "\n",
    "Гипотеза не подтвердилась, в разных городах пользователи любят одинаковые жанры музыки.\n",
    "\n",
    "---"
   ]
  },
  {
   "cell_type": "markdown",
   "metadata": {},
   "source": [
    "## Итоги\n",
    "\n",
    "Проверили три гипотезы и установили:\n",
    "\n",
    "1. День недели по-разному влияет на активность пользователей в городе 8 и городе 9. \n",
    "\n",
    "Первая гипотеза полностью подтвердилась.\n",
    "\n",
    "2. Музыкальные предпочтения не меняются в течение недели. Но небольшие различия всё же заметны.\n",
    "\n",
    "Таким образом, вторая гипотеза не подтвердилась. Этот результат мог оказаться иным, если бы не пропуски в данных.\n",
    "\n",
    "3. Вкусы пользователей города 8 и города 9 практически одинаковы.\n",
    "\n",
    "Третья гипотеза не подтвердилась. Различия видны только с 9 места в топе жанров."
   ]
  }
 ],
 "metadata": {
  "kernelspec": {
   "display_name": "Python 3",
   "language": "python",
   "name": "python3"
  },
  "language_info": {
   "codemirror_mode": {
    "name": "ipython",
    "version": 3
   },
   "file_extension": ".py",
   "mimetype": "text/x-python",
   "name": "python",
   "nbconvert_exporter": "python",
   "pygments_lexer": "ipython3",
   "version": "3.8.10"
  },
  "orig_nbformat": 4
 },
 "nbformat": 4,
 "nbformat_minor": 2
}
