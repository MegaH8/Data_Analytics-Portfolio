{
 "cells": [
  {
   "attachments": {},
   "cell_type": "markdown",
   "metadata": {},
   "source": [
    "# **Исследование данных музыкального сервиса - сравнение музыкальных предпочтений пользователей двух городов**\n",
    "---\n",
    "\n",
    "**Цель исследования** — проверка трёх гипотез:\n",
    "1. Активность пользователей зависит от дня недели. Причём в в разных городах это проявляется по-разному.\n",
    "2. В понедельник в одном городе преобладают одни жанры, а в другом — другие. Так же и в пятницу преобладают разные жанры — в зависимости от города.\n",
    "3. В разных городах предпочитают разные жанры музыки.\n",
    "\n",
    "**Ход исследования**\n",
    "\n",
    "Данные о поведении пользователей хранятся взяты с kaggle. О качестве данных ничего не известно. Поэтому перед проверкой гипотез понадобится обзор данных. \n",
    "\n",
    "Необходимо проверить данные на ошибки и оценить их влияние на исследование. Затем, на этапе предобработки следует поискать возможность исправить самые критичные ошибки данных.\n",
    " \n",
    "Таким образом, исследование пройдёт в три этапа:\n",
    " 1. Обзор данных.\n",
    " 2. Предобработка данных.\n",
    " 3. Проверка гипотез.\n",
    "\n",
    "---"
   ]
  },
  {
   "attachments": {},
   "cell_type": "markdown",
   "metadata": {},
   "source": [
    "## Обзор данных\n",
    "\n",
    "Составим первое представление о данных."
   ]
  },
  {
   "cell_type": "code",
   "execution_count": 27,
   "metadata": {},
   "outputs": [],
   "source": [
    "import pandas as pd\n",
    "import matplotlib.pyplot as plt\n",
    "import seaborn as sns\n",
    "import datetime"
   ]
  },
  {
   "attachments": {},
   "cell_type": "markdown",
   "metadata": {},
   "source": [
    "Прочитаем файлы, соедим, отберём нужные столбцы и сохраним его в файл `df_songs.csv`:"
   ]
  },
  {
   "cell_type": "code",
   "execution_count": 28,
   "metadata": {},
   "outputs": [],
   "source": [
    "#song_df = pd.read_csv('songs.csv')\n",
    "#song_ex_df = pd.read_csv('song_extra_info.csv')\n",
    "#user_df = pd.read_csv('members.csv')\n",
    "#train_df = pd.read_csv('train.csv')\n",
    "#s_se = pd.merge(train_df, song_df, on='song_id', how='left')\n",
    "#s_se_t = pd.merge(s_se, song_ex_df, on='song_id', how='left')\n",
    "#songs = pd.merge(s_se_t, user_df, on='msno', how='left')\n",
    "#songs = songs.iloc[:, [0, 12, 8, 7, 14, 6, 18]] # Оставляем только нужные столбцы\n",
    "#del song_df, song_ex_df, user_df, train_df, s_se, s_se_t"
   ]
  },
  {
   "attachments": {},
   "cell_type": "markdown",
   "metadata": {},
   "source": [
    "Для анализа возьмем 8й и 9й город."
   ]
  },
  {
   "cell_type": "code",
   "execution_count": 29,
   "metadata": {},
   "outputs": [],
   "source": [
    "#songs.city.value_counts()\n",
    "#songs = songs.loc[(songs.city == 8) | (songs.city == 9)]\n",
    "#songs = songs.reset_index(drop=True)\n",
    "#songs.to_csv('df_songs.csv',)"
   ]
  },
  {
   "cell_type": "code",
   "execution_count": 30,
   "metadata": {},
   "outputs": [],
   "source": [
    "songs = pd.read_csv('df_songs.csv', index_col=0)"
   ]
  },
  {
   "cell_type": "code",
   "execution_count": 31,
   "metadata": {},
   "outputs": [
    {
     "data": {
      "text/html": [
       "<div>\n",
       "<style scoped>\n",
       "    .dataframe tbody tr th:only-of-type {\n",
       "        vertical-align: middle;\n",
       "    }\n",
       "\n",
       "    .dataframe tbody tr th {\n",
       "        vertical-align: top;\n",
       "    }\n",
       "\n",
       "    .dataframe thead th {\n",
       "        text-align: right;\n",
       "    }\n",
       "</style>\n",
       "<table border=\"1\" class=\"dataframe\">\n",
       "  <thead>\n",
       "    <tr style=\"text-align: right;\">\n",
       "      <th></th>\n",
       "      <th>msno</th>\n",
       "      <th>name</th>\n",
       "      <th>artist_name</th>\n",
       "      <th>genre_ids</th>\n",
       "      <th>city</th>\n",
       "      <th>song_length</th>\n",
       "      <th>registration_init_time</th>\n",
       "    </tr>\n",
       "  </thead>\n",
       "  <tbody>\n",
       "    <tr>\n",
       "      <th>0</th>\n",
       "      <td>uQQHTQJ1nVEkBfbXe0f1/J9ML5eQhsQiocCV5TvvCRI=</td>\n",
       "      <td>雨天 (雨天)</td>\n",
       "      <td>孫燕姿 (Yanzi Sun)</td>\n",
       "      <td>465</td>\n",
       "      <td>9</td>\n",
       "      <td>241975.0</td>\n",
       "      <td>20130912</td>\n",
       "    </tr>\n",
       "    <tr>\n",
       "      <th>1</th>\n",
       "      <td>uQQHTQJ1nVEkBfbXe0f1/J9ML5eQhsQiocCV5TvvCRI=</td>\n",
       "      <td>EGO-HOLIC戀我癖 (EGO-HOLIC)</td>\n",
       "      <td>陳星翰 (Starr Chen)</td>\n",
       "      <td>458</td>\n",
       "      <td>9</td>\n",
       "      <td>189846.0</td>\n",
       "      <td>20130912</td>\n",
       "    </tr>\n",
       "    <tr>\n",
       "      <th>2</th>\n",
       "      <td>uQQHTQJ1nVEkBfbXe0f1/J9ML5eQhsQiocCV5TvvCRI=</td>\n",
       "      <td>愛死你</td>\n",
       "      <td>莫文蔚 (Karen Mok)</td>\n",
       "      <td>465</td>\n",
       "      <td>9</td>\n",
       "      <td>247911.0</td>\n",
       "      <td>20130912</td>\n",
       "    </tr>\n",
       "    <tr>\n",
       "      <th>3</th>\n",
       "      <td>uQQHTQJ1nVEkBfbXe0f1/J9ML5eQhsQiocCV5TvvCRI=</td>\n",
       "      <td>麥來亂</td>\n",
       "      <td>五月天 (Mayday)</td>\n",
       "      <td>465</td>\n",
       "      <td>9</td>\n",
       "      <td>257671.0</td>\n",
       "      <td>20130912</td>\n",
       "    </tr>\n",
       "    <tr>\n",
       "      <th>4</th>\n",
       "      <td>Ix1RlLsCGktMc8Q5oogErdJbfKL+HYj116+bYZ4qzMc=</td>\n",
       "      <td>愛久見人心</td>\n",
       "      <td>梁靜茹 (Fish Leong)</td>\n",
       "      <td>458</td>\n",
       "      <td>8</td>\n",
       "      <td>296542.0</td>\n",
       "      <td>20130722</td>\n",
       "    </tr>\n",
       "  </tbody>\n",
       "</table>\n",
       "</div>"
      ],
      "text/plain": [
       "                                           msno                      name  \\\n",
       "0  uQQHTQJ1nVEkBfbXe0f1/J9ML5eQhsQiocCV5TvvCRI=                   雨天 (雨天)   \n",
       "1  uQQHTQJ1nVEkBfbXe0f1/J9ML5eQhsQiocCV5TvvCRI=  EGO-HOLIC戀我癖 (EGO-HOLIC)   \n",
       "2  uQQHTQJ1nVEkBfbXe0f1/J9ML5eQhsQiocCV5TvvCRI=                       愛死你   \n",
       "3  uQQHTQJ1nVEkBfbXe0f1/J9ML5eQhsQiocCV5TvvCRI=                       麥來亂   \n",
       "4  Ix1RlLsCGktMc8Q5oogErdJbfKL+HYj116+bYZ4qzMc=                     愛久見人心   \n",
       "\n",
       "        artist_name genre_ids  city  song_length  registration_init_time  \n",
       "0   孫燕姿 (Yanzi Sun)       465     9     241975.0                20130912  \n",
       "1  陳星翰 (Starr Chen)       458     9     189846.0                20130912  \n",
       "2   莫文蔚 (Karen Mok)       465     9     247911.0                20130912  \n",
       "3      五月天 (Mayday)       465     9     257671.0                20130912  \n",
       "4  梁靜茹 (Fish Leong)       458     8     296542.0                20130722  "
      ]
     },
     "execution_count": 31,
     "metadata": {},
     "output_type": "execute_result"
    }
   ],
   "source": [
    "songs.head()"
   ]
  },
  {
   "cell_type": "code",
   "execution_count": 32,
   "metadata": {},
   "outputs": [
    {
     "name": "stdout",
     "output_type": "stream",
     "text": [
      "<class 'pandas.core.frame.DataFrame'>\n",
      "Int64Index: 180971 entries, 0 to 180970\n",
      "Data columns (total 7 columns):\n",
      " #   Column                  Non-Null Count   Dtype  \n",
      "---  ------                  --------------   -----  \n",
      " 0   msno                    180971 non-null  object \n",
      " 1   name                    180936 non-null  object \n",
      " 2   artist_name             180969 non-null  object \n",
      " 3   genre_ids               178048 non-null  object \n",
      " 4   city                    180971 non-null  int64  \n",
      " 5   song_length             180969 non-null  float64\n",
      " 6   registration_init_time  180971 non-null  int64  \n",
      "dtypes: float64(1), int64(2), object(4)\n",
      "memory usage: 11.0+ MB\n"
     ]
    }
   ],
   "source": [
    "songs.info()"
   ]
  },
  {
   "attachments": {},
   "cell_type": "markdown",
   "metadata": {},
   "source": [
    "Итак, в таблице у нас получилось семь столбцов.\n",
    "\n",
    "Согласно документации к данным:\n",
    "* `msno` — идентификатор пользователя;\n",
    "* `name` — название трека;  \n",
    "* `artist_name` — имя исполнителя;\n",
    "* `genre_ids` — id жанра;\n",
    "* `city` — город пользователя;\n",
    "* `song_length` — длительность песни;\n",
    "* `registration_init_time` — дата первого прослушивания;\n",
    "\n",
    "\n",
    "Количество значений в столбцах различается. Значит, в данных есть пропущенные значения."
   ]
  },
  {
   "attachments": {},
   "cell_type": "markdown",
   "metadata": {},
   "source": [
    "#### **Выводы**\n",
    "\n",
    "В каждой строке таблицы — данные о прослушанном треке. Часть колонок описывает саму композицию: название, исполнителя и жанр. Остальные данные рассказывают о пользователе: из какого он города, когда он слушал музыку.\n",
    "\n",
    "Предварительно можно утверждать, что, данных достаточно для проверки гипотез. Но встречаются пропуски в данных.\n",
    "\n",
    "Пропуски в данных наблюдаются только в колонках, описывающих саму композицию, что может свидетельствовать об ошибках при извлечении данных о композициях, либо о том, что в системе поля Track, artist и genre_ids являются необязательными и теоретически возможна ситуация, когда все три поля будут пропущены одновременно. Целесообразно проконсультироваться с разработчиками.\n",
    "\n",
    "С точки зрения постановки задачи наиболее важным является столбец genre_ids.\n",
    "\n",
    "Чтобы двигаться дальше, устраним проблемы в данных."
   ]
  },
  {
   "attachments": {},
   "cell_type": "markdown",
   "metadata": {},
   "source": [
    "## **Предобработка данных**\n",
    "Исправим стиль в заголовках столбцов, исключим пропуски.\n",
    "\n",
    "### Стиль заголовков\n",
    "Выведем на экран названия столбцов:"
   ]
  },
  {
   "cell_type": "code",
   "execution_count": 33,
   "metadata": {},
   "outputs": [
    {
     "data": {
      "text/plain": [
       "Index(['msno', 'name', 'artist_name', 'genre_ids', 'city', 'song_length',\n",
       "       'registration_init_time'],\n",
       "      dtype='object')"
      ]
     },
     "execution_count": 33,
     "metadata": {},
     "output_type": "execute_result"
    }
   ],
   "source": [
    "songs.columns"
   ]
  },
  {
   "cell_type": "code",
   "execution_count": 34,
   "metadata": {},
   "outputs": [],
   "source": [
    "# Изменим названия на более понятные.\n",
    "songs = songs.rename(\n",
    "    columns={\n",
    "        'msno' : 'user_id',\n",
    "        'name' : 'track',\n",
    "        'artist_name' : 'artist',\n",
    "        'genre_ids' : 'genre_id',\n",
    "        'registration_init_time' : 'date'\n",
    "    }\n",
    ")"
   ]
  },
  {
   "cell_type": "code",
   "execution_count": 35,
   "metadata": {},
   "outputs": [
    {
     "data": {
      "text/plain": [
       "Index(['user_id', 'track', 'artist', 'genre_id', 'city', 'song_length',\n",
       "       'date'],\n",
       "      dtype='object')"
      ]
     },
     "execution_count": 35,
     "metadata": {},
     "output_type": "execute_result"
    }
   ],
   "source": [
    "# проверка результатов - перечень названий столбцов\n",
    "songs.columns"
   ]
  },
  {
   "attachments": {},
   "cell_type": "markdown",
   "metadata": {},
   "source": [
    "### Работа с пропущенными значениями\n",
    "Сначала посчитаем, сколько в таблице пропущенных значений:"
   ]
  },
  {
   "cell_type": "code",
   "execution_count": 36,
   "metadata": {},
   "outputs": [
    {
     "data": {
      "text/plain": [
       "user_id           0\n",
       "track            35\n",
       "artist            2\n",
       "genre_id       2923\n",
       "city              0\n",
       "song_length       2\n",
       "date              0\n",
       "dtype: int64"
      ]
     },
     "execution_count": 36,
     "metadata": {},
     "output_type": "execute_result"
    }
   ],
   "source": [
    "# подсчёт пропусков\n",
    "songs.isna().sum()"
   ]
  },
  {
   "cell_type": "code",
   "execution_count": 37,
   "metadata": {},
   "outputs": [],
   "source": [
    "columns_to_replace = ['track', 'artist', 'genre_id', 'song_length']\n",
    "\n",
    "for col in columns_to_replace:\n",
    "    songs[col] = songs[col].fillna('unknown')"
   ]
  },
  {
   "cell_type": "markdown",
   "metadata": {},
   "source": [
    "### Дубликаты\n",
    "Посчитаем явные дубликаты в таблице:"
   ]
  },
  {
   "cell_type": "code",
   "execution_count": 38,
   "metadata": {},
   "outputs": [
    {
     "data": {
      "text/plain": [
       "626"
      ]
     },
     "execution_count": 38,
     "metadata": {},
     "output_type": "execute_result"
    }
   ],
   "source": [
    "songs.duplicated().sum()"
   ]
  },
  {
   "cell_type": "markdown",
   "metadata": {},
   "source": [
    "Удалим явные дубликаты:"
   ]
  },
  {
   "cell_type": "code",
   "execution_count": 39,
   "metadata": {},
   "outputs": [],
   "source": [
    "# удаление явных дубликатов\n",
    "songs = songs.drop_duplicates()"
   ]
  },
  {
   "cell_type": "markdown",
   "metadata": {},
   "source": [
    "Ещё раз посчитаем явные дубликаты, чтобы убедиться, что полностью от них избавились:"
   ]
  },
  {
   "cell_type": "code",
   "execution_count": 40,
   "metadata": {},
   "outputs": [
    {
     "data": {
      "text/plain": [
       "0"
      ]
     },
     "execution_count": 40,
     "metadata": {},
     "output_type": "execute_result"
    }
   ],
   "source": [
    "# проверка на отсутствие дубликатов\n",
    "songs.duplicated().sum()"
   ]
  },
  {
   "cell_type": "markdown",
   "metadata": {},
   "source": [
    "Теперь избавимся от неявных дубликатов в колонке `genre_ids`. Например, в данных id могут быть записаны парами. Такие ошибки тоже повлияют на результат исследования."
   ]
  },
  {
   "cell_type": "markdown",
   "metadata": {},
   "source": [
    "Выведем на экран список уникальных названий жанров, отсортированный в алфавитном порядке. Для этого:\n",
    "* извлеките нужный столбец датафрейма\n",
    "* примените к нему метод сортировки\n",
    "* для отсортированного столбца вызовите метод, который вернёт уникальные значения из столбца"
   ]
  },
  {
   "cell_type": "code",
   "execution_count": 41,
   "metadata": {},
   "outputs": [
    {
     "data": {
      "text/plain": [
       "array(['1011', '1026', '1040', '1040|1155', '1047', '1054', '1082', '109',\n",
       "       '1096', '109|118', '109|139', '109|465', '109|94', '1117', '1138',\n",
       "       '1145', '1152', '1152|2022', '1152|242|947', '1152|465',\n",
       "       '1152|465|1180', '1152|726', '1152|786', '1152|829', '1152|921',\n",
       "       '1152|940', '1152|947', '1155', '118', '1180', '1180|2022',\n",
       "       '1180|465', '118|1259', '1208', '1259', '1259|359', '1266', '1273',\n",
       "       '1280', '1280|2093', '1287', '139', '139|1259', '139|1259|125|109',\n",
       "       '139|125|109', '139|444|109', '1568', '1572|275', '1598', '1605',\n",
       "       '1609', '1609|1259', '1609|139', '1609|1969|2100', '1609|2058',\n",
       "       '1609|2086|374', '1609|2107', '1609|2122', '1609|2122|2022',\n",
       "       '1609|359', '1609|458', '1609|465', '1609|786', '1609|947|2022',\n",
       "       '1616', '1616|1609', '1616|2058', '1616|2072', '1616|2116', '1633',\n",
       "       '1633|310', '1944|310', '1955', '1969', '1969|1609|2100',\n",
       "       '1988|1981|430', '2022', '2022|1259', '2022|1955', '2022|359',\n",
       "       '2029', '2032', '2072', '2079', '2086', '2086|374', '2093', '2107',\n",
       "       '2109', '2116|1609', '2116|1616', '212', '2122', '2122|1259',\n",
       "       '2122|139', '2122|139|125|109', '2122|374', '2122|691', '2122|786',\n",
       "       '2122|947', '2122|947|958', '2122|947|958|2022', '2122|958',\n",
       "       '2130', '2130|947|2122|139|125|109|798|958', '2144|458', '2157',\n",
       "       '2157|1259', '2157|921', '2176|2093', '2189|367', '2189|958|367',\n",
       "       '2194', '2213|465', '2248|1259', '242', '242|2022', '242|726',\n",
       "       '242|786', '242|947', '252', '275|1572|359', '275|1572|829', '352',\n",
       "       '352|1995', '352|275|1995|1572', '359', '374', '381|2086',\n",
       "       '381|2086|374', '388', '388|1152', '388|940', '402', '409',\n",
       "       '409|465', '423', '430', '430|359', '437', '437|1287', '444',\n",
       "       '444|1259', '444|139', '444|1609', '444|2022', '444|465',\n",
       "       '444|786', '444|829', '444|921', '451', '451|1259', '458',\n",
       "       '458|1287', '458|359', '465', '465|1011', '465|109', '465|1103',\n",
       "       '465|1259', '465|139', '465|139|109', '465|139|94', '465|1609',\n",
       "       '465|2022', '465|2122', '465|2122|109', '465|2189|367', '465|359',\n",
       "       '465|430', '465|451', '465|458', '465|691', '465|691|2189|367',\n",
       "       '465|726', '465|786', '465|798', '465|829', '465|873', '465|921',\n",
       "       '465|921|2122', '465|94', '465|958', '465|958|2022', '474', '481',\n",
       "       '509', '516', '531', '545', '656', '691', '698', '712', '719',\n",
       "       '726', '726|242', '726|458', '726|958', '786', '786|2022',\n",
       "       '786|2086|374', '786|2122', '786|242', '786|691', '786|726',\n",
       "       '786|798', '786|947', '786|947|2086|374', '786|947|2086|374|958',\n",
       "       '786|947|726|958', '786|958', '798', '822', '829', '829|359',\n",
       "       '829|430', '829|458', '864|786|850|857|843', '864|843',\n",
       "       '864|850|726|857|843', '864|850|857|2122|843',\n",
       "       '864|850|857|921|843', '864|857|850|843', '873', '873|1259',\n",
       "       '873|465', '873|786', '873|958', '880', '880|458', '880|545',\n",
       "       '893', '893|458', '900', '921', '921|359', '921|458', '921|465',\n",
       "       '921|726', '921|786', '921|947', '921|958', '94', '940',\n",
       "       '940|1152', '940|1609', '940|786', '947', '947|2022|958',\n",
       "       '947|726|958', '947|958|2022', '94|139', '94|95', '95', '958',\n",
       "       '958|2122', '958|947', '965', '972', '979', '986', 'unknown'],\n",
       "      dtype=object)"
      ]
     },
     "execution_count": 41,
     "metadata": {},
     "output_type": "execute_result"
    }
   ],
   "source": [
    "# Просмотр уникальных названий жанров\n",
    "songs['genre_id'].sort_values().unique()"
   ]
  },
  {
   "cell_type": "markdown",
   "metadata": {},
   "source": [
    "В списке выявлены следующие неявные дубликаты:\n",
    "Парные id\n",
    "\n",
    "Чтобы очистить от них таблицу, напишем функцию `replace_wrong_genres()` с одним параметром: \n",
    "* `gen` — список id\n",
    "\n",
    "Функция исправляет колонку `genre_id` в таблице `songs`: заменяет каждое значение c символом `|` на первый id."
   ]
  },
  {
   "cell_type": "code",
   "execution_count": 42,
   "metadata": {},
   "outputs": [],
   "source": [
    "# функция для замены неявных дубликатов\n",
    "def replace_wrong_genres(gen):\n",
    "    nw_gen = []\n",
    "    for i in gen:\n",
    "        index = i.find('|')\n",
    "        if index != -1:\n",
    "            i = i[:index]\n",
    "        nw_gen.append(i)\n",
    "    return nw_gen"
   ]
  },
  {
   "cell_type": "markdown",
   "metadata": {},
   "source": [
    "Устраним неявные дубликаты"
   ]
  },
  {
   "cell_type": "code",
   "execution_count": 43,
   "metadata": {},
   "outputs": [],
   "source": [
    "songs['genre_id'] = replace_wrong_genres(songs['genre_id'])"
   ]
  },
  {
   "cell_type": "markdown",
   "metadata": {},
   "source": [
    "Проверим корректность устранения неявных дубликатов. Выведем отсортированный список уникальных значений столбца `genre`:"
   ]
  },
  {
   "cell_type": "code",
   "execution_count": 44,
   "metadata": {},
   "outputs": [
    {
     "data": {
      "text/plain": [
       "array(['1011', '1026', '1040', '1047', '1054', '1082', '109', '1096',\n",
       "       '1117', '1138', '1145', '1152', '1155', '118', '1180', '1208',\n",
       "       '1259', '1266', '1273', '1280', '1287', '139', '1568', '1572',\n",
       "       '1598', '1605', '1609', '1616', '1633', '1944', '1955', '1969',\n",
       "       '1988', '2022', '2029', '2032', '2072', '2079', '2086', '2093',\n",
       "       '2107', '2109', '2116', '212', '2122', '2130', '2144', '2157',\n",
       "       '2176', '2189', '2194', '2213', '2248', '242', '252', '275', '352',\n",
       "       '359', '374', '381', '388', '402', '409', '423', '430', '437',\n",
       "       '444', '451', '458', '465', '474', '481', '509', '516', '531',\n",
       "       '545', '656', '691', '698', '712', '719', '726', '786', '798',\n",
       "       '822', '829', '864', '873', '880', '893', '900', '921', '94',\n",
       "       '940', '947', '95', '958', '965', '972', '979', '986', 'unknown'],\n",
       "      dtype=object)"
      ]
     },
     "execution_count": 44,
     "metadata": {},
     "output_type": "execute_result"
    }
   ],
   "source": [
    "# Проверка на неявные дубликаты\n",
    "songs['genre_id'].sort_values().unique()"
   ]
  },
  {
   "cell_type": "markdown",
   "metadata": {},
   "source": [
    "### Заменим данные в столбце `date` с полной даты на день недели.\n",
    "\n",
    "Напишим функцию, которая будет получать дату в формате ГГГГММДД и выдавать день недели. Для этого используем модуль datetime."
   ]
  },
  {
   "cell_type": "code",
   "execution_count": 45,
   "metadata": {},
   "outputs": [],
   "source": [
    "# Создадим словарь\n",
    "week_day = {0: 'Понедельник', 1: 'Вторник', 2: 'Среда', 3: 'Четверг', 4: 'Пятница', 5: 'Суббота', 6: 'Воскресенье'}\n",
    "\n",
    "def to_week_day(lst_date):\n",
    "    lst_week_day = []\n",
    "    for sdate in lst_date:\n",
    "        week_id = datetime.datetime(sdate//10000, sdate%10000//100, sdate%100)\n",
    "        lst_week_day.append(week_day[week_id.weekday()])  \n",
    "    return lst_week_day"
   ]
  },
  {
   "cell_type": "code",
   "execution_count": 46,
   "metadata": {},
   "outputs": [
    {
     "data": {
      "text/plain": [
       "0             Четверг\n",
       "1             Четверг\n",
       "2             Четверг\n",
       "3             Четверг\n",
       "4         Понедельник\n",
       "             ...     \n",
       "180966    Воскресенье\n",
       "180967    Воскресенье\n",
       "180968    Воскресенье\n",
       "180969    Воскресенье\n",
       "180970    Воскресенье\n",
       "Name: date, Length: 180345, dtype: object"
      ]
     },
     "execution_count": 46,
     "metadata": {},
     "output_type": "execute_result"
    }
   ],
   "source": [
    "songs['name'] = to_week_day(songs['date'])\n",
    "songs['date']"
   ]
  },
  {
   "cell_type": "markdown",
   "metadata": {},
   "source": [
    "**Выводы**\n",
    "\n",
    "Предобработка обнаружила три проблемы в данных:\n",
    "\n",
    "- нарушения в стиле заголовков,\n",
    "- пропущенные значения,\n",
    "- дубликаты — явные и неявные.\n",
    "\n",
    "Мы исправили заголовки, чтобы упростить работу с таблицей. Без дубликатов исследование станет более точным.\n",
    "\n",
    "Пропущенные значения мы заменили на `'unknown'`. Ещё предстоит увидеть, не повредят ли исследованию пропуски в колонке `genre_id`.\n",
    "\n",
    "Теперь можно перейти к проверке гипотез. \n",
    "\n",
    "---"
   ]
  },
  {
   "cell_type": "markdown",
   "metadata": {},
   "source": [
    "## Проверка гипотез\n",
    "\n",
    "**1.** Активность пользователей зависит от дня недели. Причём в в разных городах это проявляется по-разному.\n",
    "\n",
    "Сравним распределение активности по по дням недели."
   ]
  },
  {
   "cell_type": "code",
   "execution_count": 83,
   "metadata": {},
   "outputs": [
    {
     "data": {
      "text/plain": [
       "date\n",
       "Среда          20412\n",
       "Вторник        21011\n",
       "Понедельник    24111\n",
       "Четверг        26743\n",
       "Суббота        27503\n",
       "Пятница        28490\n",
       "Воскресенье    32075\n",
       "Name: city, dtype: int64"
      ]
     },
     "execution_count": 83,
     "metadata": {},
     "output_type": "execute_result"
    }
   ],
   "source": [
    "event_week = songs.groupby('date')['city'].count().sort_values()\n",
    "event_week"
   ]
  },
  {
   "cell_type": "code",
   "execution_count": 84,
   "metadata": {},
   "outputs": [
    {
     "data": {
      "text/plain": [
       "Text(0.5, 1.0, 'Количество прослушиваний по дням недели')"
      ]
     },
     "execution_count": 84,
     "metadata": {},
     "output_type": "execute_result"
    },
    {
     "data": {
      "image/png": "[encoded data removed]",
      "text/plain": [
       "<Figure size 1500x400 with 1 Axes>"
      ]
     },
     "metadata": {},
     "output_type": "display_data"
    }
   ],
   "source": [
    "plt.figure(figsize=(15,4))\n",
    "plt.bar(range(len(event_week)), event_week)\n",
    "plt.xlabel('День недели')\n",
    "plt.xticks(range(len(event_week)), event_week.index)\n",
    "plt.ylabel('Кол-во прослушиваний')\n",
    "plt.title('Количество прослушиваний по дням недели')"
   ]
  },
  {
   "cell_type": "markdown",
   "metadata": {},
   "source": [
    "Теперь посмотрим это распределение для каждого города.\n",
    "\n",
    "Город №8:"
   ]
  },
  {
   "cell_type": "code",
   "execution_count": 85,
   "metadata": {},
   "outputs": [
    {
     "data": {
      "text/plain": [
       "date\n",
       "Среда           6383\n",
       "Вторник         9364\n",
       "Суббота        10420\n",
       "Понедельник    11809\n",
       "Четверг        13148\n",
       "Пятница        14703\n",
       "Воскресенье    19614\n",
       "Name: city, dtype: int64"
      ]
     },
     "execution_count": 85,
     "metadata": {},
     "output_type": "execute_result"
    }
   ],
   "source": [
    "event_week_8 = songs[songs['city']==8].groupby('date')['city'].count().sort_values()\n",
    "event_week_8"
   ]
  },
  {
   "cell_type": "code",
   "execution_count": 86,
   "metadata": {},
   "outputs": [
    {
     "data": {
      "text/plain": [
       "Text(0.5, 1.0, 'Количество прослушиваний по дням недели')"
      ]
     },
     "execution_count": 86,
     "metadata": {},
     "output_type": "execute_result"
    },
    {
     "data": {
      "image/png": "[encoded data removed]",
      "text/plain": [
       "<Figure size 1500x400 with 1 Axes>"
      ]
     },
     "metadata": {},
     "output_type": "display_data"
    }
   ],
   "source": [
    "plt.figure(figsize=(15,4))\n",
    "plt.bar(range(len(event_week)), event_week_8)\n",
    "plt.xlabel('День недели')\n",
    "plt.xticks(range(len(event_week)), event_week_8.index)\n",
    "plt.ylabel('Кол-во прослушиваний')\n",
    "plt.title('Количество прослушиваний по дням недели')"
   ]
  },
  {
   "cell_type": "markdown",
   "metadata": {},
   "source": [
    "Город №9:"
   ]
  },
  {
   "cell_type": "code",
   "execution_count": 81,
   "metadata": {},
   "outputs": [
    {
     "data": {
      "text/plain": [
       "date\n",
       "Вторник        11647\n",
       "Понедельник    12302\n",
       "Воскресенье    12461\n",
       "Четверг        13595\n",
       "Пятница        13787\n",
       "Среда          14029\n",
       "Суббота        17083\n",
       "Name: city, dtype: int64"
      ]
     },
     "execution_count": 81,
     "metadata": {},
     "output_type": "execute_result"
    }
   ],
   "source": [
    "event_week_9 = songs[songs['city']==9].groupby('date')['city'].count().sort_values()\n",
    "event_week_9"
   ]
  },
  {
   "cell_type": "code",
   "execution_count": 82,
   "metadata": {},
   "outputs": [
    {
     "data": {
      "text/plain": [
       "Text(0.5, 1.0, 'Количество прослушиваний по дням недели')"
      ]
     },
     "execution_count": 82,
     "metadata": {},
     "output_type": "execute_result"
    },
    {
     "data": {
      "image/png": "[encoded data removed]",
      "text/plain": [
       "<Figure size 1500x400 with 1 Axes>"
      ]
     },
     "metadata": {},
     "output_type": "display_data"
    }
   ],
   "source": [
    "plt.figure(figsize=(15,4))\n",
    "plt.bar(range(len(event_week)), event_week_9)\n",
    "plt.xlabel('День недели')\n",
    "plt.xticks(range(len(event_week)), event_week_9.index)\n",
    "plt.ylabel('Кол-во прослушиваний')\n",
    "plt.title('Количество прослушиваний по дням недели')"
   ]
  },
  {
   "cell_type": "code",
   "execution_count": 88,
   "metadata": {},
   "outputs": [
    {
     "data": {
      "text/plain": [
       "count        7.000000\n",
       "mean     13557.714286\n",
       "std       1785.783742\n",
       "min      11647.000000\n",
       "25%      12381.500000\n",
       "50%      13595.000000\n",
       "75%      13908.000000\n",
       "max      17083.000000\n",
       "Name: city, dtype: float64"
      ]
     },
     "execution_count": 88,
     "metadata": {},
     "output_type": "execute_result"
    }
   ],
   "source": [
    "event_week_9.describe()"
   ]
  }
 ],
 "metadata": {
  "kernelspec": {
   "display_name": "Python 3",
   "language": "python",
   "name": "python3"
  },
  "language_info": {
   "codemirror_mode": {
    "name": "ipython",
    "version": 3
   },
   "file_extension": ".py",
   "mimetype": "text/x-python",
   "name": "python",
   "nbconvert_exporter": "python",
   "pygments_lexer": "ipython3",
   "version": "3.8.10"
  },
  "orig_nbformat": 4
 },
 "nbformat": 4,
 "nbformat_minor": 2
}
