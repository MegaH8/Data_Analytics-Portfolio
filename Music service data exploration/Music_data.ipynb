{
 "cells": [
  {
   "attachments": {},
   "cell_type": "markdown",
   "metadata": {},
   "source": [
    "# Исследование данных музыкального сервиса - сравнение музыкальных предпочтений пользователей двух городов\n",
    "---\n"
   ]
  },
  {
   "attachments": {},
   "cell_type": "markdown",
   "metadata": {},
   "source": [
    "**Цель исследования** — проверка трёх гипотез:\n",
    "1. Активность пользователей зависит от дня недели. Причём в в разных городах это проявляется по-разному.\n",
    "2. В понедельник утром в одном городе преобладают одни жанры, а в другом — другие. Так же и вечером пятницы преобладают разные жанры — в зависимости от города.\n",
    "3. В разных городах предпочитают разные жанры музыки.\n",
    "\n",
    "**Ход исследования**\n",
    "\n",
    "Данные о поведении пользователей хранятся взяты с kaggle. О качестве данных ничего не известно. Поэтому перед проверкой гипотез понадобится обзор данных. \n",
    "\n",
    "Необходимо проверить данные на ошибки и оценить их влияние на исследование. Затем, на этапе предобработки следует поискать возможность исправить самые критичные ошибки данных.\n",
    " \n",
    "Таким образом, исследование пройдёт в три этапа:\n",
    " 1. Обзор данных.\n",
    " 2. Предобработка данных.\n",
    " 3. Проверка гипотез.\n",
    "\n",
    "---"
   ]
  },
  {
   "attachments": {},
   "cell_type": "markdown",
   "metadata": {},
   "source": [
    "## Обзор данных\n",
    "\n",
    "Составим первое представление о данных."
   ]
  },
  {
   "cell_type": "code",
   "execution_count": 2,
   "metadata": {},
   "outputs": [],
   "source": [
    "import pandas as pd"
   ]
  },
  {
   "attachments": {},
   "cell_type": "markdown",
   "metadata": {},
   "source": [
    "Прочитаем файлы, соедим, отберём нужные столбцы и сохраним его в переменной `songs`:"
   ]
  },
  {
   "cell_type": "code",
   "execution_count": 12,
   "metadata": {},
   "outputs": [],
   "source": [
    "song_df = pd.read_csv('songs.csv')\n",
    "song_ex_df = pd.read_csv('song_extra_info.csv')\n",
    "user_df = pd.read_csv('members.csv')\n",
    "train_df = pd.read_csv('train.csv')\n",
    "s_se = pd.merge(train_df, song_df, on='song_id', how='left')\n",
    "s_se_t = pd.merge(s_se, song_ex_df, on='song_id', how='left')\n",
    "songs = pd.merge(s_se_t, user_df, on='msno', how='left')\n",
    "songs = songs.iloc[:, [0, 12, 8, 7, 14, 6, 18]] # Оставляем только нужные столбцы\n",
    "del song_df, song_ex_df, user_df, train_df, s_se, s_se_t"
   ]
  },
  {
   "attachments": {},
   "cell_type": "markdown",
   "metadata": {},
   "source": [
    "Для анализа возьмем города с id 8 и 9"
   ]
  },
  {
   "cell_type": "code",
   "execution_count": 33,
   "metadata": {},
   "outputs": [
    {
     "data": {
      "text/html": [
       "<div>\n",
       "<style scoped>\n",
       "    .dataframe tbody tr th:only-of-type {\n",
       "        vertical-align: middle;\n",
       "    }\n",
       "\n",
       "    .dataframe tbody tr th {\n",
       "        vertical-align: top;\n",
       "    }\n",
       "\n",
       "    .dataframe thead th {\n",
       "        text-align: right;\n",
       "    }\n",
       "</style>\n",
       "<table border=\"1\" class=\"dataframe\">\n",
       "  <thead>\n",
       "    <tr style=\"text-align: right;\">\n",
       "      <th></th>\n",
       "      <th>msno</th>\n",
       "      <th>name</th>\n",
       "      <th>artist_name</th>\n",
       "      <th>genre_ids</th>\n",
       "      <th>city</th>\n",
       "      <th>song_length</th>\n",
       "      <th>registration_init_time</th>\n",
       "    </tr>\n",
       "  </thead>\n",
       "  <tbody>\n",
       "    <tr>\n",
       "      <th>19</th>\n",
       "      <td>uQQHTQJ1nVEkBfbXe0f1/J9ML5eQhsQiocCV5TvvCRI=</td>\n",
       "      <td>雨天 (雨天)</td>\n",
       "      <td>孫燕姿 (Yanzi Sun)</td>\n",
       "      <td>465</td>\n",
       "      <td>9</td>\n",
       "      <td>241975.0</td>\n",
       "      <td>20130912</td>\n",
       "    </tr>\n",
       "    <tr>\n",
       "      <th>20</th>\n",
       "      <td>uQQHTQJ1nVEkBfbXe0f1/J9ML5eQhsQiocCV5TvvCRI=</td>\n",
       "      <td>EGO-HOLIC戀我癖 (EGO-HOLIC)</td>\n",
       "      <td>陳星翰 (Starr Chen)</td>\n",
       "      <td>458</td>\n",
       "      <td>9</td>\n",
       "      <td>189846.0</td>\n",
       "      <td>20130912</td>\n",
       "    </tr>\n",
       "    <tr>\n",
       "      <th>21</th>\n",
       "      <td>uQQHTQJ1nVEkBfbXe0f1/J9ML5eQhsQiocCV5TvvCRI=</td>\n",
       "      <td>愛死你</td>\n",
       "      <td>莫文蔚 (Karen Mok)</td>\n",
       "      <td>465</td>\n",
       "      <td>9</td>\n",
       "      <td>247911.0</td>\n",
       "      <td>20130912</td>\n",
       "    </tr>\n",
       "    <tr>\n",
       "      <th>22</th>\n",
       "      <td>uQQHTQJ1nVEkBfbXe0f1/J9ML5eQhsQiocCV5TvvCRI=</td>\n",
       "      <td>麥來亂</td>\n",
       "      <td>五月天 (Mayday)</td>\n",
       "      <td>465</td>\n",
       "      <td>9</td>\n",
       "      <td>257671.0</td>\n",
       "      <td>20130912</td>\n",
       "    </tr>\n",
       "    <tr>\n",
       "      <th>571</th>\n",
       "      <td>Ix1RlLsCGktMc8Q5oogErdJbfKL+HYj116+bYZ4qzMc=</td>\n",
       "      <td>愛久見人心</td>\n",
       "      <td>梁靜茹 (Fish Leong)</td>\n",
       "      <td>458</td>\n",
       "      <td>8</td>\n",
       "      <td>296542.0</td>\n",
       "      <td>20130722</td>\n",
       "    </tr>\n",
       "    <tr>\n",
       "      <th>...</th>\n",
       "      <td>...</td>\n",
       "      <td>...</td>\n",
       "      <td>...</td>\n",
       "      <td>...</td>\n",
       "      <td>...</td>\n",
       "      <td>...</td>\n",
       "      <td>...</td>\n",
       "    </tr>\n",
       "    <tr>\n",
       "      <th>7376782</th>\n",
       "      <td>WtuOpsYQ8St9zt7yySdryqDUCxeT4/v2rLRA7+lsahQ=</td>\n",
       "      <td>Bellas Regionals</td>\n",
       "      <td>Pitch Perfect Soundtrack</td>\n",
       "      <td>921</td>\n",
       "      <td>8</td>\n",
       "      <td>160055.0</td>\n",
       "      <td>20151227</td>\n",
       "    </tr>\n",
       "    <tr>\n",
       "      <th>7376783</th>\n",
       "      <td>WtuOpsYQ8St9zt7yySdryqDUCxeT4/v2rLRA7+lsahQ=</td>\n",
       "      <td>Live High</td>\n",
       "      <td>Jason Mraz</td>\n",
       "      <td>465</td>\n",
       "      <td>8</td>\n",
       "      <td>254537.0</td>\n",
       "      <td>20151227</td>\n",
       "    </tr>\n",
       "    <tr>\n",
       "      <th>7377115</th>\n",
       "      <td>WtuOpsYQ8St9zt7yySdryqDUCxeT4/v2rLRA7+lsahQ=</td>\n",
       "      <td>When You're Good To Mama</td>\n",
       "      <td>Chicago</td>\n",
       "      <td>465</td>\n",
       "      <td>8</td>\n",
       "      <td>199854.0</td>\n",
       "      <td>20151227</td>\n",
       "    </tr>\n",
       "    <tr>\n",
       "      <th>7377116</th>\n",
       "      <td>WtuOpsYQ8St9zt7yySdryqDUCxeT4/v2rLRA7+lsahQ=</td>\n",
       "      <td>Escape</td>\n",
       "      <td>MISIA</td>\n",
       "      <td>139|125|109</td>\n",
       "      <td>8</td>\n",
       "      <td>297471.0</td>\n",
       "      <td>20151227</td>\n",
       "    </tr>\n",
       "    <tr>\n",
       "      <th>7377117</th>\n",
       "      <td>WtuOpsYQ8St9zt7yySdryqDUCxeT4/v2rLRA7+lsahQ=</td>\n",
       "      <td>喇叭練習中</td>\n",
       "      <td>Mayu Watanabe (渡辺麻友)</td>\n",
       "      <td>465</td>\n",
       "      <td>8</td>\n",
       "      <td>256906.0</td>\n",
       "      <td>20151227</td>\n",
       "    </tr>\n",
       "  </tbody>\n",
       "</table>\n",
       "<p>180971 rows × 7 columns</p>\n",
       "</div>"
      ],
      "text/plain": [
       "                                                 msno  \\\n",
       "19       uQQHTQJ1nVEkBfbXe0f1/J9ML5eQhsQiocCV5TvvCRI=   \n",
       "20       uQQHTQJ1nVEkBfbXe0f1/J9ML5eQhsQiocCV5TvvCRI=   \n",
       "21       uQQHTQJ1nVEkBfbXe0f1/J9ML5eQhsQiocCV5TvvCRI=   \n",
       "22       uQQHTQJ1nVEkBfbXe0f1/J9ML5eQhsQiocCV5TvvCRI=   \n",
       "571      Ix1RlLsCGktMc8Q5oogErdJbfKL+HYj116+bYZ4qzMc=   \n",
       "...                                               ...   \n",
       "7376782  WtuOpsYQ8St9zt7yySdryqDUCxeT4/v2rLRA7+lsahQ=   \n",
       "7376783  WtuOpsYQ8St9zt7yySdryqDUCxeT4/v2rLRA7+lsahQ=   \n",
       "7377115  WtuOpsYQ8St9zt7yySdryqDUCxeT4/v2rLRA7+lsahQ=   \n",
       "7377116  WtuOpsYQ8St9zt7yySdryqDUCxeT4/v2rLRA7+lsahQ=   \n",
       "7377117  WtuOpsYQ8St9zt7yySdryqDUCxeT4/v2rLRA7+lsahQ=   \n",
       "\n",
       "                             name               artist_name    genre_ids  \\\n",
       "19                        雨天 (雨天)           孫燕姿 (Yanzi Sun)          465   \n",
       "20       EGO-HOLIC戀我癖 (EGO-HOLIC)          陳星翰 (Starr Chen)          458   \n",
       "21                            愛死你           莫文蔚 (Karen Mok)          465   \n",
       "22                            麥來亂              五月天 (Mayday)          465   \n",
       "571                         愛久見人心          梁靜茹 (Fish Leong)          458   \n",
       "...                           ...                       ...          ...   \n",
       "7376782          Bellas Regionals  Pitch Perfect Soundtrack          921   \n",
       "7376783                 Live High                Jason Mraz          465   \n",
       "7377115  When You're Good To Mama                   Chicago          465   \n",
       "7377116                    Escape                     MISIA  139|125|109   \n",
       "7377117                     喇叭練習中      Mayu Watanabe (渡辺麻友)          465   \n",
       "\n",
       "         city  song_length  registration_init_time  \n",
       "19          9     241975.0                20130912  \n",
       "20          9     189846.0                20130912  \n",
       "21          9     247911.0                20130912  \n",
       "22          9     257671.0                20130912  \n",
       "571         8     296542.0                20130722  \n",
       "...       ...          ...                     ...  \n",
       "7376782     8     160055.0                20151227  \n",
       "7376783     8     254537.0                20151227  \n",
       "7377115     8     199854.0                20151227  \n",
       "7377116     8     297471.0                20151227  \n",
       "7377117     8     256906.0                20151227  \n",
       "\n",
       "[180971 rows x 7 columns]"
      ]
     },
     "execution_count": 33,
     "metadata": {},
     "output_type": "execute_result"
    }
   ],
   "source": [
    "songs.city.value_counts()\n",
    "songs.loc[(songs.city == 8) | (songs.city == 9)]"
   ]
  },
  {
   "cell_type": "code",
   "execution_count": 6,
   "metadata": {},
   "outputs": [
    {
     "data": {
      "text/html": [
       "<div>\n",
       "<style scoped>\n",
       "    .dataframe tbody tr th:only-of-type {\n",
       "        vertical-align: middle;\n",
       "    }\n",
       "\n",
       "    .dataframe tbody tr th {\n",
       "        vertical-align: top;\n",
       "    }\n",
       "\n",
       "    .dataframe thead th {\n",
       "        text-align: right;\n",
       "    }\n",
       "</style>\n",
       "<table border=\"1\" class=\"dataframe\">\n",
       "  <thead>\n",
       "    <tr style=\"text-align: right;\">\n",
       "      <th></th>\n",
       "      <th>user_id</th>\n",
       "      <th>track</th>\n",
       "      <th>artist</th>\n",
       "      <th>genre_ids</th>\n",
       "      <th>city</th>\n",
       "      <th>song_length</th>\n",
       "      <th>day</th>\n",
       "    </tr>\n",
       "  </thead>\n",
       "  <tbody>\n",
       "    <tr>\n",
       "      <th>0</th>\n",
       "      <td>FGtllVqz18RPiwJj/edr2gV78zirAiY/9SmYvia+kCg=</td>\n",
       "      <td>Good Grief</td>\n",
       "      <td>Bastille</td>\n",
       "      <td>359</td>\n",
       "      <td>1</td>\n",
       "      <td>206471.0</td>\n",
       "      <td>20120102</td>\n",
       "    </tr>\n",
       "    <tr>\n",
       "      <th>1</th>\n",
       "      <td>Xumu+NIjS6QYVxDS4/t3SawvJ7viT9hPKXmf0RtLNx8=</td>\n",
       "      <td>Lords of Cardboard</td>\n",
       "      <td>Various Artists</td>\n",
       "      <td>1259</td>\n",
       "      <td>13</td>\n",
       "      <td>284584.0</td>\n",
       "      <td>20110525</td>\n",
       "    </tr>\n",
       "    <tr>\n",
       "      <th>2</th>\n",
       "      <td>Xumu+NIjS6QYVxDS4/t3SawvJ7viT9hPKXmf0RtLNx8=</td>\n",
       "      <td>Hip Hop Is Dead(Album Version (Edited))</td>\n",
       "      <td>Nas</td>\n",
       "      <td>1259</td>\n",
       "      <td>13</td>\n",
       "      <td>225396.0</td>\n",
       "      <td>20110525</td>\n",
       "    </tr>\n",
       "    <tr>\n",
       "      <th>3</th>\n",
       "      <td>Xumu+NIjS6QYVxDS4/t3SawvJ7viT9hPKXmf0RtLNx8=</td>\n",
       "      <td>Disco Africa</td>\n",
       "      <td>Soundway</td>\n",
       "      <td>1019</td>\n",
       "      <td>13</td>\n",
       "      <td>255512.0</td>\n",
       "      <td>20110525</td>\n",
       "    </tr>\n",
       "    <tr>\n",
       "      <th>4</th>\n",
       "      <td>FGtllVqz18RPiwJj/edr2gV78zirAiY/9SmYvia+kCg=</td>\n",
       "      <td>Sleep Without You</td>\n",
       "      <td>Brett Young</td>\n",
       "      <td>1011</td>\n",
       "      <td>1</td>\n",
       "      <td>187802.0</td>\n",
       "      <td>20120102</td>\n",
       "    </tr>\n",
       "  </tbody>\n",
       "</table>\n",
       "</div>"
      ],
      "text/plain": [
       "                                        user_id  \\\n",
       "0  FGtllVqz18RPiwJj/edr2gV78zirAiY/9SmYvia+kCg=   \n",
       "1  Xumu+NIjS6QYVxDS4/t3SawvJ7viT9hPKXmf0RtLNx8=   \n",
       "2  Xumu+NIjS6QYVxDS4/t3SawvJ7viT9hPKXmf0RtLNx8=   \n",
       "3  Xumu+NIjS6QYVxDS4/t3SawvJ7viT9hPKXmf0RtLNx8=   \n",
       "4  FGtllVqz18RPiwJj/edr2gV78zirAiY/9SmYvia+kCg=   \n",
       "\n",
       "                                     track           artist genre_ids  city  \\\n",
       "0                               Good Grief         Bastille       359     1   \n",
       "1                       Lords of Cardboard  Various Artists      1259    13   \n",
       "2  Hip Hop Is Dead(Album Version (Edited))              Nas      1259    13   \n",
       "3                             Disco Africa         Soundway      1019    13   \n",
       "4                        Sleep Without You      Brett Young      1011     1   \n",
       "\n",
       "   song_length       day  \n",
       "0     206471.0  20120102  \n",
       "1     284584.0  20110525  \n",
       "2     225396.0  20110525  \n",
       "3     255512.0  20110525  \n",
       "4     187802.0  20120102  "
      ]
     },
     "execution_count": 6,
     "metadata": {},
     "output_type": "execute_result"
    }
   ],
   "source": [
    "songs.head()"
   ]
  },
  {
   "cell_type": "code",
   "execution_count": 13,
   "metadata": {},
   "outputs": [
    {
     "name": "stdout",
     "output_type": "stream",
     "text": [
      "<class 'pandas.core.frame.DataFrame'>\n",
      "Int64Index: 100000 entries, 0 to 99999\n",
      "Data columns (total 7 columns):\n",
      " #   Column       Non-Null Count   Dtype  \n",
      "---  ------       --------------   -----  \n",
      " 0   user_id      100000 non-null  object \n",
      " 1   track        99991 non-null   object \n",
      " 2   artist       99996 non-null   object \n",
      " 3   genre_ids    98498 non-null   object \n",
      " 4   city         100000 non-null  int64  \n",
      " 5   song_length  99996 non-null   float64\n",
      " 6   day          100000 non-null  int64  \n",
      "dtypes: float64(1), int64(2), object(4)\n",
      "memory usage: 6.1+ MB\n"
     ]
    }
   ],
   "source": [
    "songs.info()"
   ]
  },
  {
   "attachments": {},
   "cell_type": "markdown",
   "metadata": {},
   "source": [
    "Итак, в таблице у нас получилось семь столбцов.\n",
    "\n",
    "Согласно документации к данным:\n",
    "* `msno` — идентификатор пользователя;\n",
    "* `name` — название трека;  \n",
    "* `artist_name` — имя исполнителя;\n",
    "* `genre_ids` — id жанра;\n",
    "* `city` — город пользователя;\n",
    "* `song_length` — длительность песни;\n",
    "* `registration_init_time` — дата первого прослушивания;\n",
    "\n",
    "\n",
    "Количество значений в столбцах различается. Значит, в данных есть пропущенные значения."
   ]
  },
  {
   "attachments": {},
   "cell_type": "markdown",
   "metadata": {},
   "source": [
    "#### **Выводы**\n",
    "\n",
    "В каждой строке таблицы — данные о прослушанном треке. Часть колонок описывает саму композицию: название, исполнителя и жанр. Остальные данные рассказывают о пользователе: из какого он города, когда он слушал музыку.\n",
    "\n",
    "Предварительно можно утверждать, что, данных достаточно для проверки гипотез. Но встречаются пропуски в данных.\n",
    "\n",
    "Пропуски в данных наблюдаются только в колонках, описывающих саму композицию, что может свидетельствовать об ошибках при извлечении данных о композициях, либо о том, что в системе поля Track, artist и genre_ids являются необязательными и теоретически возможна ситуация, когда все три поля будут пропущены одновременно. Целесообразно проконсультироваться с разработчиками.\n",
    "\n",
    "С точки зрения постановки задачи наиболее важным является столбец genre_ids.\n",
    "\n",
    "Чтобы двигаться дальше, устраним проблемы в данных."
   ]
  },
  {
   "attachments": {},
   "cell_type": "markdown",
   "metadata": {},
   "source": [
    "## **Предобработка данных**\n",
    "Исправим стиль в заголовках столбцов, исключим пропуски.\n",
    "\n",
    "## Стиль заголовков\n",
    "Выведем на экран названия столбцов:"
   ]
  },
  {
   "cell_type": "code",
   "execution_count": 9,
   "metadata": {},
   "outputs": [
    {
     "data": {
      "text/plain": [
       "Index(['user_id', 'track', 'artist', 'genre_ids', 'city', 'song_length',\n",
       "       'day'],\n",
       "      dtype='object')"
      ]
     },
     "execution_count": 9,
     "metadata": {},
     "output_type": "execute_result"
    }
   ],
   "source": [
    "songs.columns"
   ]
  },
  {
   "cell_type": "code",
   "execution_count": 8,
   "metadata": {},
   "outputs": [],
   "source": [
    "# Изменим названия на более понятные.\n",
    "songs = songs.rename(\n",
    "    columns={\n",
    "        'msno' : 'user_id',\n",
    "        'name' : 'track',\n",
    "        'artist_name' : 'artist',\n",
    "        'registration_init_time' : 'date'\n",
    "    }\n",
    ")"
   ]
  },
  {
   "cell_type": "code",
   "execution_count": 11,
   "metadata": {},
   "outputs": [
    {
     "data": {
      "text/plain": [
       "Index(['user_id', 'track', 'artist', 'genre_ids', 'city', 'song_length',\n",
       "       'day'],\n",
       "      dtype='object')"
      ]
     },
     "execution_count": 11,
     "metadata": {},
     "output_type": "execute_result"
    }
   ],
   "source": [
    "# проверка результатов - перечень названий столбцов\n",
    "songs.columns"
   ]
  },
  {
   "attachments": {},
   "cell_type": "markdown",
   "metadata": {},
   "source": [
    "## Работа с пропущенными значениями\n",
    "Сначала посчитаем, сколько в таблице пропущенных значений:"
   ]
  },
  {
   "cell_type": "code",
   "execution_count": 10,
   "metadata": {},
   "outputs": [
    {
     "data": {
      "text/plain": [
       "user_id           0\n",
       "track             9\n",
       "artist            4\n",
       "genre_ids      1502\n",
       "city              0\n",
       "song_length       4\n",
       "day               0\n",
       "dtype: int64"
      ]
     },
     "execution_count": 10,
     "metadata": {},
     "output_type": "execute_result"
    }
   ],
   "source": [
    "# подсчёт пропусков\n",
    "songs.isna().sum()"
   ]
  },
  {
   "cell_type": "code",
   "execution_count": 8,
   "metadata": {},
   "outputs": [],
   "source": [
    "for i in songs.select_dtypes(include=['object']).columns:\n",
    "    songs[i][songs[i].isnull()] = 'unknown'\n",
    "songs = songs.fillna(value=0)"
   ]
  },
  {
   "cell_type": "code",
   "execution_count": 9,
   "metadata": {},
   "outputs": [
    {
     "data": {
      "text/plain": [
       "0"
      ]
     },
     "execution_count": 9,
     "metadata": {},
     "output_type": "execute_result"
    }
   ],
   "source": [
    "songs.duplicated().sum()"
   ]
  },
  {
   "cell_type": "code",
   "execution_count": null,
   "metadata": {},
   "outputs": [],
   "source": []
  }
 ],
 "metadata": {
  "kernelspec": {
   "display_name": "Python 3",
   "language": "python",
   "name": "python3"
  },
  "language_info": {
   "codemirror_mode": {
    "name": "ipython",
    "version": 3
   },
   "file_extension": ".py",
   "mimetype": "text/x-python",
   "name": "python",
   "nbconvert_exporter": "python",
   "pygments_lexer": "ipython3",
   "version": "3.8.10"
  },
  "orig_nbformat": 4
 },
 "nbformat": 4,
 "nbformat_minor": 2
}
